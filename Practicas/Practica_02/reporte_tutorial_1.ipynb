{
  "nbformat": 4,
  "nbformat_minor": 0,
  "metadata": {
    "colab": {
      "name": "reporte_tutorial_1.ipynb",
      "provenance": []
    },
    "kernelspec": {
      "name": "python3",
      "display_name": "Python 3"
    },
    "language_info": {
      "name": "python"
    }
  },
  "cells": [
    {
      "cell_type": "markdown",
      "metadata": {
        "id": "bvVoydmXw8AD"
      },
      "source": [
        "## Práctica 02, Reporte 01\n",
        "## Daniel Ramírez Umaña\n",
        "## 13 Septiembre 2021"
      ]
    },
    {
      "cell_type": "markdown",
      "metadata": {
        "id": "na0ESeBfw9Pd"
      },
      "source": [
        "##Framework for Data Preparation Techniques in Machine Learning\n",
        "\n",
        "Framework para Técnicas de Preparación de Datos en Machine Learning"
      ]
    },
    {
      "cell_type": "markdown",
      "metadata": {
        "id": "SuS1y6mAxj46"
      },
      "source": [
        "#### **exploración y preparación de datos** "
      ]
    },
    {
      "cell_type": "markdown",
      "metadata": {
        "id": "TGuyeIbDJnkP"
      },
      "source": [
        "### 1. Reto de la Preparación de Datos"
      ]
    },
    {
      "cell_type": "markdown",
      "metadata": {
        "id": "oSSM7j3uKzh9"
      },
      "source": [
        "Para poder hacer uso modelos de predicción es necesario preparar los datos para adaptarlos buscando eliminar o disminuir la mayor cantidad de errores o equivocaciones, o bien para que los datos tengan el tipo y distribución esperado para poder aplicar el algoritmo de clasificación y así potenciar su rendimiento.\n",
        "\n",
        "La elección, configuración y preparación de los datos es considerado uno de los hiperparámetros del proceso de modelización que nos permitirá técnicas de búsqueda automática.\n",
        "\n",
        "En sí las técnicas de preparación de datos puede tomarse de forma sistematizada."
      ]
    },
    {
      "cell_type": "markdown",
      "metadata": {
        "id": "xI0IQZIFJ2wL"
      },
      "source": [
        "### 2. Framework para Preparación de Datos"
      ]
    },
    {
      "cell_type": "markdown",
      "metadata": {
        "id": "IZtpo5CIPgzC"
      },
      "source": [
        "Utilizar las técnicas de preparación de datos de forma estructurada y sistematizada nos garantiza poder explorar una mayor gama de técnicas que podrían ser potencialmente eicaces."
      ]
    },
    {
      "cell_type": "markdown",
      "metadata": {
        "id": "D3924_wyQdnJ"
      },
      "source": [
        "![alt text](https://github.com/agvd-21b-Daniel-Ramirez/Practicas/Practica_02/Images/Data_Preparation_Framework.png?raw=true)\n",
        "\n"
      ]
    },
    {
      "cell_type": "markdown",
      "metadata": {
        "id": "6an7_VmNJ8_P"
      },
      "source": [
        "### 3. Técnicas de Preparación de Datos"
      ]
    }
  ]
}