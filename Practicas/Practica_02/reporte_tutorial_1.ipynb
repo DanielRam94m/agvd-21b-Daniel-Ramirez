{
  "nbformat": 4,
  "nbformat_minor": 0,
  "metadata": {
    "colab": {
      "name": "reporte_tutorial_1.ipynb",
      "provenance": []
    },
    "kernelspec": {
      "name": "python3",
      "display_name": "Python 3"
    },
    "language_info": {
      "name": "python"
    }
  },
  "cells": [
    {
      "cell_type": "markdown",
      "metadata": {
        "id": "bvVoydmXw8AD"
      },
      "source": [
        "## Práctica 02, Reporte 01\n",
        "## Daniel Ramírez Umaña\n",
        "## 13 Septiembre 2021"
      ]
    },
    {
      "cell_type": "markdown",
      "metadata": {
        "id": "na0ESeBfw9Pd"
      },
      "source": [
        "##Framework for Data Preparation Techniques in Machine Learning\n",
        "\n",
        "Framework para Técnicas de Preparación de Datos en Machine Learning"
      ]
    },
    {
      "cell_type": "markdown",
      "metadata": {
        "id": "SuS1y6mAxj46"
      },
      "source": [
        "#### **exploración y preparación de datos** "
      ]
    },
    {
      "cell_type": "markdown",
      "metadata": {
        "id": "TGuyeIbDJnkP"
      },
      "source": [
        "### 1. Reto de la Preparación de Datos"
      ]
    },
    {
      "cell_type": "markdown",
      "metadata": {
        "id": "oSSM7j3uKzh9"
      },
      "source": [
        "Para poder hacer uso modelos de predicción es necesario preparar los datos para adaptarlos buscando eliminar o disminuir la mayor cantidad de errores o equivocaciones, o bien para que los datos tengan el tipo y distribución esperado para poder aplicar el algoritmo de clasificación y así potenciar su rendimiento.\n",
        "\n",
        "La elección, configuración y preparación de los datos es considerado uno de los hiperparámetros del proceso de modelización que nos permitirá técnicas de búsqueda automática.\n",
        "\n",
        "En sí las técnicas de preparación de datos puede tomarse de forma sistematizada."
      ]
    },
    {
      "cell_type": "markdown",
      "metadata": {
        "id": "xI0IQZIFJ2wL"
      },
      "source": [
        "### 2. Framework para Preparación de Datos"
      ]
    },
    {
      "cell_type": "markdown",
      "metadata": {
        "id": "IZtpo5CIPgzC"
      },
      "source": [
        "Utilizar las técnicas de preparación de datos de forma estructurada y sistematizada nos garantiza poder explorar una mayor gama de técnicas que podrían ser potencialmente eicaces."
      ]
    },
    {
      "cell_type": "markdown",
      "metadata": {
        "id": "D3924_wyQdnJ"
      },
      "source": [
        "![imagen](./Images/Data_Preparation_Framework.png)\n",
        "\n"
      ]
    },
    {
      "cell_type": "markdown",
      "metadata": {
        "id": "6an7_VmNJ8_P"
      },
      "source": [
        "### 3. Técnicas de Preparación de Datos"
      ]
    },
    {
      "cell_type": "markdown",
      "metadata": {
        "id": "xyKQu3zOVORl"
      },
      "source": [
        "A continuación un cuadro con algunas de las técnicas de preparación de datos y en qué consisten estas."
      ]
    },
    {
      "cell_type": "markdown",
      "metadata": {
        "id": "50wqq_DeV1Od"
      },
      "source": [
        "| Técnica | Descripción |\n",
        "| ------- | ----------- |\n",
        "| **Preparación de Datos para Filas** | Consiste en un conjunto de técnicas para añadir o eliminar filas de datos correspondientes a observaciones y que puede ser útil para eliminar errores, ambigüedades o bien alimantar al conjunto con más datos. <br> Una de estas técnicas es el SMOTE con el que creamos filas sintéticas en clases poco representadas, o bien el submuestro aleatorio para eliminar ejemplos de clases sobrerepresentadas.|\n",
        "| **Preparación de Datos para Columnas** | Consiste en un conjunto de técnicas para añadir o eliminar columnas de datos que corresponderán a variables o características y que puede ser útil para reducir la complejidad o dimensionalidad de un problema de predicción o por relaciones complejas entre características. <br> Por ejemplo en la selección de características se utiliza la estadística para puntuar la relevancia de las variables de entrada con respecto a la variable objetivo en función al tipo de datos de cada una.|\n",
        "| **Preparación de Datos para  Valores** | Este conjunto de técnicas son utilizadas para modificar valores brutos de datos. <br> Esto puede significar el cambio de tipos de variables, cambio en la distribución de estas variables o la normalización de estas. |\n",
        "| **Preparación de Datos para Columnas + Valores** | Este conjunto de técnicas permiten tanto la modidicación ya sea cantidad de columnas o de valores propios de los datos. <br> Por ejemplo tenemos la técnica de reducción de dimensionalidad con la que podemos reducir el número de columnas y además la escala y distribución de las variables numéricas en la entrada. <br> Otro ejemplo es el método de factorización de matrices que son posibles gracias al álgebra linael, así como la estadística de alta dimensión gracias a la utilización de algoritmos de aprendizaje múltiple. <br> Si bien estas técnicas pueden utilizarse para aumentar la dimensionalidad de los conjuntos, es más suelen ser utilizadas normalmente para reducir la dimensionalidad de estos y facilitar el trabajo a los clasificadores. |\n",
        "| **Preparación de Datos para Filas + Valores** | Gropo de técnicas de preparación de datos destinados tanto para cambiar el número de filas como los valores de los datos. <br> Un ejemplo de esto son los algoritmos de clustering en las que todos los subconjuntos de filas de datos son sustituídos por muestras de datos en los centros del cluster. |"
      ]
    },
    {
      "cell_type": "markdown",
      "metadata": {
        "id": "Jo7DLMlJhaqQ"
      },
      "source": [
        "### Posible uso en mi futuro profecional:\n",
        "\n",
        "Puedo hacer uso de esto para mi futuro profecional a la hora de usar conjuntos de datos para hacer predicciones, ya que estas técnicas podrían en sí ser útiles para reducir la carga de procesamiento de los algoritmos de clasificación, además de que aumentas su desempeño y efectividad, por ejemplo, eliminando o modificando datos, filas o columnas que puedan ocacionar errores en la clasificación."
      ]
    },
    {
      "cell_type": "markdown",
      "metadata": {
        "id": "dOWTRoleh2oW"
      },
      "source": [
        "### Aspectos de los que me gustaría saber más o que no me quedaron muy claros:\n",
        "\n",
        "Me gustaría hacer uso de estas técnicas en ejemplos prácticos en los que tenga que retarme a aplicarlos para así tener un acercamiento mejor a este tema. Planeo hacer esto apenas se me presente la oportunidad."
      ]
    }
  ]
}