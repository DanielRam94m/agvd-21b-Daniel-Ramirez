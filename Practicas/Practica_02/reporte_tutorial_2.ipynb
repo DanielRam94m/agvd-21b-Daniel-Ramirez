{
  "nbformat": 4,
  "nbformat_minor": 0,
  "metadata": {
    "colab": {
      "name": "reporte_tutorial_2.ipynb",
      "provenance": []
    },
    "kernelspec": {
      "name": "python3",
      "display_name": "Python 3"
    },
    "language_info": {
      "name": "python"
    }
  },
  "cells": [
    {
      "cell_type": "markdown",
      "metadata": {
        "id": "HsWONnhLjssQ"
      },
      "source": [
        "## Práctica 02, Reporte 01\n",
        "## Daniel Ramírez Umaña\n",
        "## 13 Septiembre 2021"
      ]
    },
    {
      "cell_type": "markdown",
      "metadata": {
        "id": "EF1Xv7-BjxNq"
      },
      "source": [
        "## How to Perform Data Cleaning for Machine Learning with Python"
      ]
    },
    {
      "cell_type": "markdown",
      "metadata": {
        "id": "wbk-jwM4kGqR"
      },
      "source": [
        "La limpieza de datos en el proceso de aplicación de aprendizaje automático es muy necesario ya que al omitirse, los modelos de clasificación pueden romperse o informar de resultados de rendimiento demasiado optimistas."
      ]
    },
    {
      "cell_type": "markdown",
      "metadata": {
        "id": "lQtQctfemCpC"
      },
      "source": [
        "### 1. Conjuntos de Datos Desordenados (Messy Datasets)"
      ]
    },
    {
      "cell_type": "markdown",
      "metadata": {
        "id": "hlxC1PDKorSs"
      },
      "source": [
        "La limpieza de datos se refiere a la identificación y corrección de errores en el conjunto de datos que pueden afectar negativamente a un modelo predictivo. Esta requiere además de una aplicación de distintas técnicas, de tener un buen conocimiento del conjunto de datos."
      ]
    },
    {
      "cell_type": "markdown",
      "metadata": {
        "id": "Wfstio4vmRO1"
      },
      "source": [
        "### 2. Identificar las Columnas que Contienen un Solo Valor"
      ]
    },
    {
      "cell_type": "markdown",
      "metadata": {
        "id": "4yAJYlMVslKj"
      },
      "source": [
        "Cuando una columna solo posee una única observación o valor, es muy probablemente una columna inútil. A estas columnas o predictores se les denominan **predictores de varianza cero** (zero-variance predictors) ya que al ser el mismo valor, su varianza sería cero."
      ]
    },
    {
      "cell_type": "code",
      "metadata": {
        "colab": {
          "base_uri": "https://localhost:8080/"
        },
        "id": "Tr_xcdOetjMI",
        "outputId": "e89282f7-f305-4caa-d8ad-c3d0060dd9cc"
      },
      "source": [
        "# resume el número de valores únicos para cada columna usando numpy\n",
        "from urllib.request import urlopen\n",
        "from numpy import loadtxt\n",
        "from numpy import unique\n",
        "# definir la ubicación del conjunto de dataset\n",
        "path = 'https://raw.githubusercontent.com/jbrownlee/Datasets/master/oil-spill.csv'\n",
        "# cargar el dataset\n",
        "data = loadtxt(urlopen(path), delimiter=',')\n",
        "# resumir el número de valores únicos en cada columna\n",
        "for i in range(data.shape[1]):\n",
        "\tprint(i, len(unique(data[:, i])))"
      ],
      "execution_count": 1,
      "outputs": [
        {
          "output_type": "stream",
          "name": "stdout",
          "text": [
            "0 238\n",
            "1 297\n",
            "2 927\n",
            "3 933\n",
            "4 179\n",
            "5 375\n",
            "6 820\n",
            "7 618\n",
            "8 561\n",
            "9 57\n",
            "10 577\n",
            "11 59\n",
            "12 73\n",
            "13 107\n",
            "14 53\n",
            "15 91\n",
            "16 893\n",
            "17 810\n",
            "18 170\n",
            "19 53\n",
            "20 68\n",
            "21 9\n",
            "22 1\n",
            "23 92\n",
            "24 9\n",
            "25 8\n",
            "26 9\n",
            "27 308\n",
            "28 447\n",
            "29 392\n",
            "30 107\n",
            "31 42\n",
            "32 4\n",
            "33 45\n",
            "34 141\n",
            "35 110\n",
            "36 3\n",
            "37 758\n",
            "38 9\n",
            "39 9\n",
            "40 388\n",
            "41 220\n",
            "42 644\n",
            "43 649\n",
            "44 499\n",
            "45 2\n",
            "46 937\n",
            "47 169\n",
            "48 286\n",
            "49 2\n"
          ]
        }
      ]
    },
    {
      "cell_type": "markdown",
      "metadata": {
        "id": "_lO_f3mauV0f"
      },
      "source": [
        "Como podemos ver la variable en el índice 22 tiene un único valor y debería ser removido"
      ]
    },
    {
      "cell_type": "markdown",
      "metadata": {
        "id": "0_61X3eGut7k"
      },
      "source": [
        "Ahora el mismo trbajo pero usando Pandas"
      ]
    },
    {
      "cell_type": "code",
      "metadata": {
        "colab": {
          "base_uri": "https://localhost:8080/"
        },
        "id": "SeB-e3fbuzuX",
        "outputId": "06442959-a084-4ba5-e832-61a2c19abfae"
      },
      "source": [
        "# summarize the number of unique values for each column using numpy\n",
        "from pandas import read_csv\n",
        "# define the location of the dataset\n",
        "path = 'https://raw.githubusercontent.com/jbrownlee/Datasets/master/oil-spill.csv'\n",
        "# load the dataset\n",
        "df = read_csv(path, header=None)\n",
        "# summarize the number of unique values in each column\n",
        "print(df.nunique())"
      ],
      "execution_count": 2,
      "outputs": [
        {
          "output_type": "stream",
          "name": "stdout",
          "text": [
            "0     238\n",
            "1     297\n",
            "2     927\n",
            "3     933\n",
            "4     179\n",
            "5     375\n",
            "6     820\n",
            "7     618\n",
            "8     561\n",
            "9      57\n",
            "10    577\n",
            "11     59\n",
            "12     73\n",
            "13    107\n",
            "14     53\n",
            "15     91\n",
            "16    893\n",
            "17    810\n",
            "18    170\n",
            "19     53\n",
            "20     68\n",
            "21      9\n",
            "22      1\n",
            "23     92\n",
            "24      9\n",
            "25      8\n",
            "26      9\n",
            "27    308\n",
            "28    447\n",
            "29    392\n",
            "30    107\n",
            "31     42\n",
            "32      4\n",
            "33     45\n",
            "34    141\n",
            "35    110\n",
            "36      3\n",
            "37    758\n",
            "38      9\n",
            "39      9\n",
            "40    388\n",
            "41    220\n",
            "42    644\n",
            "43    649\n",
            "44    499\n",
            "45      2\n",
            "46    937\n",
            "47    169\n",
            "48    286\n",
            "49      2\n",
            "dtype: int64\n"
          ]
        }
      ]
    },
    {
      "cell_type": "markdown",
      "metadata": {
        "id": "0F59Io7Omsow"
      },
      "source": [
        "### 3. Eliminar Columnas que Contienen un Solo Valor"
      ]
    },
    {
      "cell_type": "markdown",
      "metadata": {
        "id": "ngg0mo_8vECq"
      },
      "source": [
        "Las variables o columnas que contienen un único valor deberían probablemente ser eliminadas. Esto puede ser muy fácil al usar la función `drop()` en el DataFrame de Pandas"
      ]
    },
    {
      "cell_type": "code",
      "metadata": {
        "colab": {
          "base_uri": "https://localhost:8080/"
        },
        "id": "emYdHZ7nvzF1",
        "outputId": "ef74a9a8-412f-4d64-dda1-3fb0793aa57e"
      },
      "source": [
        "# eliminar columnas con un valor único\n",
        "from pandas import read_csv\n",
        "# ubicación del dataset\n",
        "path = 'https://raw.githubusercontent.com/jbrownlee/Datasets/master/oil-spill.csv'\n",
        "# load the dataset\n",
        "df = read_csv(path, header=None)\n",
        "print(df.shape)\n",
        "# obtiene el valor de valores únicos en cada columna\n",
        "counts = df.nunique()\n",
        "# columnas de registro a eliminar\n",
        "to_del = [i for i,v in enumerate(counts) if v == 1]\n",
        "print(to_del)\n",
        "# eliminar columnas inútiles\n",
        "df.drop(to_del, axis=1, inplace=True)\n",
        "print(df.shape)"
      ],
      "execution_count": 3,
      "outputs": [
        {
          "output_type": "stream",
          "name": "stdout",
          "text": [
            "(937, 50)\n",
            "[22]\n",
            "(937, 49)\n"
          ]
        }
      ]
    },
    {
      "cell_type": "markdown",
      "metadata": {
        "id": "AsSutPRAm3xC"
      },
      "source": [
        "### 4. Considerar las Columnas que Tienen Muy Pocos Valores"
      ]
    },
    {
      "cell_type": "markdown",
      "metadata": {
        "id": "Z4wz0x4ew6Iz"
      },
      "source": [
        "Que columnas tengan muy pocos valores únicos pueden tener sentido si estas son variables ordinales o categóricas, pero en caso de variables numéricas podría resultar sospechoso que solo hayan 2, 4 o 9 valores numéricos únicos. A estos los definimos como **predictores de varianza cercana a cero** (near-zero variance predictors). Estas podrían o no contribuir a la habilidad del modelo.\n",
        "\n",
        "No es recomendable asumir que este tipo de variables son útiles para el modelo, además que estas podrían inferir en errores en los modelos o bien resultados inesperados.\n",
        "\n",
        "Para tomar una desición on respecto a estas variables, podemos calcular calcular el porcentaje del número total de filas del conjunto de datos."
      ]
    },
    {
      "cell_type": "code",
      "metadata": {
        "colab": {
          "base_uri": "https://localhost:8080/"
        },
        "id": "KM2Lq1YAzZ85",
        "outputId": "ff249687-1223-4c93-c4f4-0039c1708448"
      },
      "source": [
        "# resumir el porcentaje de valores únicos para cada columna utilizando numpy\n",
        "from urllib.request import urlopen\n",
        "from numpy import loadtxt\n",
        "from numpy import unique\n",
        "# ubicación dataset\n",
        "path = 'https://raw.githubusercontent.com/jbrownlee/Datasets/master/oil-spill.csv'\n",
        "# cargar el dataset\n",
        "data = loadtxt(urlopen(path), delimiter=',')\n",
        "# resumir el número de valores únicos en cada columna\n",
        "for i in range(data.shape[1]):\n",
        "\tnum = len(unique(data[:, i]))\n",
        "\tpercentage = float(num) / data.shape[0] * 100\n",
        "\tprint('%d, %d, %.1f%%' % (i, num, percentage))"
      ],
      "execution_count": 4,
      "outputs": [
        {
          "output_type": "stream",
          "name": "stdout",
          "text": [
            "0, 238, 25.4%\n",
            "1, 297, 31.7%\n",
            "2, 927, 98.9%\n",
            "3, 933, 99.6%\n",
            "4, 179, 19.1%\n",
            "5, 375, 40.0%\n",
            "6, 820, 87.5%\n",
            "7, 618, 66.0%\n",
            "8, 561, 59.9%\n",
            "9, 57, 6.1%\n",
            "10, 577, 61.6%\n",
            "11, 59, 6.3%\n",
            "12, 73, 7.8%\n",
            "13, 107, 11.4%\n",
            "14, 53, 5.7%\n",
            "15, 91, 9.7%\n",
            "16, 893, 95.3%\n",
            "17, 810, 86.4%\n",
            "18, 170, 18.1%\n",
            "19, 53, 5.7%\n",
            "20, 68, 7.3%\n",
            "21, 9, 1.0%\n",
            "22, 1, 0.1%\n",
            "23, 92, 9.8%\n",
            "24, 9, 1.0%\n",
            "25, 8, 0.9%\n",
            "26, 9, 1.0%\n",
            "27, 308, 32.9%\n",
            "28, 447, 47.7%\n",
            "29, 392, 41.8%\n",
            "30, 107, 11.4%\n",
            "31, 42, 4.5%\n",
            "32, 4, 0.4%\n",
            "33, 45, 4.8%\n",
            "34, 141, 15.0%\n",
            "35, 110, 11.7%\n",
            "36, 3, 0.3%\n",
            "37, 758, 80.9%\n",
            "38, 9, 1.0%\n",
            "39, 9, 1.0%\n",
            "40, 388, 41.4%\n",
            "41, 220, 23.5%\n",
            "42, 644, 68.7%\n",
            "43, 649, 69.3%\n",
            "44, 499, 53.3%\n",
            "45, 2, 0.2%\n",
            "46, 937, 100.0%\n",
            "47, 169, 18.0%\n",
            "48, 286, 30.5%\n",
            "49, 2, 0.2%\n"
          ]
        }
      ]
    },
    {
      "cell_type": "markdown",
      "metadata": {
        "id": "qfaXnoPY0BK9"
      },
      "source": [
        "Podemos ver que algunas variables tienen un porcentaje por debajo de 1%.\n",
        "\n",
        "Veamos solo aquellos que tienen un porcentaje por debajo de 1%."
      ]
    },
    {
      "cell_type": "code",
      "metadata": {
        "colab": {
          "base_uri": "https://localhost:8080/"
        },
        "id": "AACBrIDd0d2V",
        "outputId": "a40d0f4e-ef46-4b01-c898-ac0f49ff97cf"
      },
      "source": [
        "# summarize the percentage of unique values for each column using numpy\n",
        "from urllib.request import urlopen\n",
        "from numpy import loadtxt\n",
        "from numpy import unique\n",
        "# define the location of the dataset\n",
        "path = 'https://raw.githubusercontent.com/jbrownlee/Datasets/master/oil-spill.csv'\n",
        "# load the dataset\n",
        "data = loadtxt(urlopen(path), delimiter=',')\n",
        "# summarize the number of unique values in each column\n",
        "for i in range(data.shape[1]):\n",
        "\tnum = len(unique(data[:, i]))\n",
        "\tpercentage = float(num) / data.shape[0] * 100\n",
        "\tif percentage < 1:\n",
        "\t\tprint('%d, %d, %.1f%%' % (i, num, percentage))"
      ],
      "execution_count": 5,
      "outputs": [
        {
          "output_type": "stream",
          "name": "stdout",
          "text": [
            "21, 9, 1.0%\n",
            "22, 1, 0.1%\n",
            "24, 9, 1.0%\n",
            "25, 8, 0.9%\n",
            "26, 9, 1.0%\n",
            "32, 4, 0.4%\n",
            "36, 3, 0.3%\n",
            "38, 9, 1.0%\n",
            "39, 9, 1.0%\n",
            "45, 2, 0.2%\n",
            "49, 2, 0.2%\n"
          ]
        }
      ]
    },
    {
      "cell_type": "markdown",
      "metadata": {
        "id": "WK1vc1u90snO"
      },
      "source": [
        "No significa que estas columnas deban ser eliminadas, pero sí que requieren más atención. Por ejemplo:\n",
        "* ¿Estos valores únicos pueden considerarse como valores ordinales?\n",
        "* ¿Estos valores únicos pueden considerarse como valores categóricos?\n",
        "* ¿Podría compararse la habilidad del modelo con cada variable eliminada de conjunto de datos?"
      ]
    },
    {
      "cell_type": "markdown",
      "metadata": {
        "id": "1oIU93fI1_gy"
      },
      "source": [
        "Si queremos eliminar todas las columnas con porcentajes por debajo de 1% podríamos hecer lo siguiente:"
      ]
    },
    {
      "cell_type": "code",
      "metadata": {
        "colab": {
          "base_uri": "https://localhost:8080/"
        },
        "id": "lJsBtd6q2KED",
        "outputId": "fb766935-dca1-4ebd-ff61-b3ed46353ca8"
      },
      "source": [
        "# delete columns where number of unique values is less than 1% of the rows\n",
        "from pandas import read_csv\n",
        "# define the location of the dataset\n",
        "path = 'https://raw.githubusercontent.com/jbrownlee/Datasets/master/oil-spill.csv'\n",
        "# load the dataset\n",
        "df = read_csv(path, header=None)\n",
        "print(df.shape)\n",
        "# get number of unique values for each column\n",
        "counts = df.nunique()\n",
        "# record columns to delete\n",
        "to_del = [i for i,v in enumerate(counts) if (float(v)/df.shape[0]*100) < 1]\n",
        "print(to_del)\n",
        "# drop useless columns\n",
        "df.drop(to_del, axis=1, inplace=True)\n",
        "print(df.shape)"
      ],
      "execution_count": 6,
      "outputs": [
        {
          "output_type": "stream",
          "name": "stdout",
          "text": [
            "(937, 50)\n",
            "[21, 22, 24, 25, 26, 32, 36, 38, 39, 45, 49]\n",
            "(937, 39)\n"
          ]
        }
      ]
    },
    {
      "cell_type": "markdown",
      "metadata": {
        "id": "LE_VfxFfnUBr"
      },
      "source": [
        "### 5. Eliminar las Columnas que Tienen Una Variaza Baja"
      ]
    },
    {
      "cell_type": "markdown",
      "metadata": {
        "id": "vKM4hJzP2gSz"
      },
      "source": [
        "También podría ser interesante considerar que para eliminar columnas con pocos valores únicos podríamos calcular la varianza de una columna."
      ]
    },
    {
      "cell_type": "markdown",
      "metadata": {
        "id": "SYJ_Itji3TNp"
      },
      "source": [
        "Existe la clase **VarianceThreshold** de la biblioteca **scikit-learn** que permite crear una instancia de la clase especificando el argumento \"threshold\", que por defecto es 0,0 para eliminar las columnas con valor único.\n",
        "\n",
        "También con `fit_transform()` podemos crear un conjunto con las variables menores al umbral eliminadas."
      ]
    },
    {
      "cell_type": "code",
      "metadata": {
        "colab": {
          "base_uri": "https://localhost:8080/"
        },
        "id": "Uby3hUNw4kFy",
        "outputId": "8e25a3aa-6274-43aa-aa49-454c788191db"
      },
      "source": [
        "# ejemplo de aplicar la varianza threshold\n",
        "from pandas import read_csv\n",
        "from sklearn.feature_selection import VarianceThreshold\n",
        "# ubicación del dataset\n",
        "path = 'https://raw.githubusercontent.com/jbrownlee/Datasets/master/oil-spill.csv'\n",
        "# cargar el dataset\n",
        "df = read_csv(path, header=None)\n",
        "# dividir datos en entradas y salidas\n",
        "data = df.values\n",
        "X = data[:, :-1]\n",
        "y = data[:, -1]\n",
        "print(X.shape, y.shape)\n",
        "# definir el transform\n",
        "transform = VarianceThreshold()\n",
        "# transformar los dalos de entrada\n",
        "X_sel = transform.fit_transform(X)\n",
        "print(X_sel.shape)"
      ],
      "execution_count": 10,
      "outputs": [
        {
          "output_type": "stream",
          "name": "stdout",
          "text": [
            "(937, 49) (937,)\n",
            "(937, 48)\n"
          ]
        }
      ]
    },
    {
      "cell_type": "markdown",
      "metadata": {
        "id": "caMrFCUG5r_t"
      },
      "source": [
        "Podemos definir una secuencia de umbrales de 0,0 a 0,5 con un tamaño de paso de 0,05, por ejemplo, 0,0, 0,05, 0,1, etc."
      ]
    },
    {
      "cell_type": "code",
      "metadata": {
        "colab": {
          "base_uri": "https://localhost:8080/",
          "height": 478
        },
        "id": "etJ30a7q5tJJ",
        "outputId": "85e28e56-79bc-4cf9-836a-436666401487"
      },
      "source": [
        "# explore the effect of the variance thresholds on the number of selected features\n",
        "from numpy import arange\n",
        "from pandas import read_csv\n",
        "from sklearn.feature_selection import VarianceThreshold\n",
        "from matplotlib import pyplot\n",
        "# define the location of the dataset\n",
        "path = 'https://raw.githubusercontent.com/jbrownlee/Datasets/master/oil-spill.csv'\n",
        "# load the dataset\n",
        "df = read_csv(path, header=None)\n",
        "# split data into inputs and outputs\n",
        "data = df.values\n",
        "X = data[:, :-1]\n",
        "y = data[:, -1]\n",
        "print(X.shape, y.shape)\n",
        "# define thresholds to check\n",
        "thresholds = arange(0.0, 0.55, 0.05)\n",
        "# apply transform with each threshold\n",
        "results = list()\n",
        "for t in thresholds:\n",
        "\t# define the transform\n",
        "\ttransform = VarianceThreshold(threshold=t)\n",
        "\t# transform the input data\n",
        "\tX_sel = transform.fit_transform(X)\n",
        "\t# determine the number of input features\n",
        "\tn_features = X_sel.shape[1]\n",
        "\tprint('>Threshold=%.2f, Features=%d' % (t, n_features))\n",
        "\t# store the result\n",
        "\tresults.append(n_features)\n",
        "# plot the threshold vs the number of selected features\n",
        "pyplot.plot(thresholds, results)\n",
        "pyplot.show()"
      ],
      "execution_count": 12,
      "outputs": [
        {
          "output_type": "stream",
          "name": "stdout",
          "text": [
            "(937, 49) (937,)\n",
            ">Threshold=0.00, Features=48\n",
            ">Threshold=0.05, Features=37\n",
            ">Threshold=0.10, Features=36\n",
            ">Threshold=0.15, Features=35\n",
            ">Threshold=0.20, Features=35\n",
            ">Threshold=0.25, Features=35\n",
            ">Threshold=0.30, Features=35\n",
            ">Threshold=0.35, Features=35\n",
            ">Threshold=0.40, Features=35\n",
            ">Threshold=0.45, Features=33\n",
            ">Threshold=0.50, Features=31\n"
          ]
        },
        {
          "output_type": "display_data",
          "data": {
            "image/png": "[encoded data removed]",
            "text/plain": [
              "<Figure size 432x288 with 1 Axes>"
            ]
          },
          "metadata": {
            "needs_background": "light"
          }
        }
      ]
    },
    {
      "cell_type": "markdown",
      "metadata": {
        "id": "LQUyu1je6Unv"
      },
      "source": [
        "Podemos ver que a pesar que entre 0.15 y 0.4 hay una cantidad muy pequeña, un total de 14 columnas fueron eliminadas."
      ]
    },
    {
      "cell_type": "markdown",
      "metadata": {
        "id": "v_MbT5Ijn8OC"
      },
      "source": [
        "### 6. Identificar las Filas que Contienen Datos Duplicados"
      ]
    },
    {
      "cell_type": "markdown",
      "metadata": {
        "id": "oRpWxtqs6upa"
      },
      "source": [
        "Filas que contienen datos idénticos (donde cada valor de cada columna es el mismo) son probablemente inútiles.\n",
        "\n",
        "Gracias a la función de pandas `duplicated()` podemos saber cuando una fila está duplicada o no. Este consiste en una función que devuelve un valor buleano."
      ]
    },
    {
      "cell_type": "code",
      "metadata": {
        "colab": {
          "base_uri": "https://localhost:8080/"
        },
        "id": "4DejyZD171C5",
        "outputId": "a58ccc1c-53a0-4b8e-ea4d-eacb8fe05ed9"
      },
      "source": [
        "# locate rows of duplicate data\n",
        "from pandas import read_csv\n",
        "# define the location of the dataset\n",
        "path = 'https://raw.githubusercontent.com/jbrownlee/Datasets/master/iris.csv'\n",
        "# load the dataset\n",
        "df = read_csv(path, header=None)\n",
        "# calculate duplicates\n",
        "dups = df.duplicated()\n",
        "# report if there are any duplicates\n",
        "print(dups.any())\n",
        "# list all duplicate rows\n",
        "print(df[dups])"
      ],
      "execution_count": 13,
      "outputs": [
        {
          "output_type": "stream",
          "name": "stdout",
          "text": [
            "True\n",
            "       0    1    2    3               4\n",
            "34   4.9  3.1  1.5  0.1     Iris-setosa\n",
            "37   4.9  3.1  1.5  0.1     Iris-setosa\n",
            "142  5.8  2.7  5.1  1.9  Iris-virginica\n"
          ]
        }
      ]
    },
    {
      "cell_type": "markdown",
      "metadata": {
        "id": "6K0K30nmoMAj"
      },
      "source": [
        "### 7. Eliminar Filas que Contienen Datos Duplicados"
      ]
    },
    {
      "cell_type": "markdown",
      "metadata": {
        "id": "jbEpJTTA8MM0"
      },
      "source": [
        "Es probable que se deban eliminar columnas del dataset antes de la modelización con el conjunto.\n",
        "\n",
        "Entre las distintas formas para hacer esto, podemos usar la función de pandas `drop_duplicates()`."
      ]
    },
    {
      "cell_type": "code",
      "metadata": {
        "colab": {
          "base_uri": "https://localhost:8080/"
        },
        "id": "9QTi02Ve9LXY",
        "outputId": "8b9b5859-a684-4e96-93da-c80bef48cac1"
      },
      "source": [
        "# delete rows of duplicate data from the dataset\n",
        "from pandas import read_csv\n",
        "# define the location of the dataset\n",
        "path = 'https://raw.githubusercontent.com/jbrownlee/Datasets/master/iris.csv'\n",
        "# load the dataset\n",
        "df = read_csv(path, header=None)\n",
        "print(df.shape)\n",
        "# delete duplicate rows\n",
        "df.drop_duplicates(inplace=True)\n",
        "print(df.shape)"
      ],
      "execution_count": 14,
      "outputs": [
        {
          "output_type": "stream",
          "name": "stdout",
          "text": [
            "(150, 5)\n",
            "(147, 5)\n"
          ]
        }
      ]
    },
    {
      "cell_type": "markdown",
      "metadata": {
        "id": "xE9BBs919RN-"
      },
      "source": [
        "### Lo aprendido y el posible uso en mi futuro profesional:"
      ]
    },
    {
      "cell_type": "markdown",
      "metadata": {
        "id": "x7eG7iDV9zao"
      },
      "source": [
        "Este material me permitió poder hacer uso de distintas funciones para eliminar columnas y filas que podrían no aportar o aportar muy poco a mis modelos además de que podrían generar errores o conflictos en estos por lo que podría ser de gran utilidad eliminarlos.\n",
        "\n",
        "En mi futuro profesional esto será muy importante no solo para reducir tiempo y recursos en los entrenamientos de mis modelos, sino también para evitar que estos tengan errores inducidos."
      ]
    },
    {
      "cell_type": "markdown",
      "metadata": {
        "id": "QGwKv50Q9gYZ"
      },
      "source": [
        "### Aspectos de los que me gustaría saber más o que no me quedaron muy claros:\n"
      ]
    },
    {
      "cell_type": "markdown",
      "metadata": {
        "id": "NvWT8iD7-zG4"
      },
      "source": [
        "Me gustaría tener más ejemplos para ver como se comportan estas prácticas con distintos conjuntos, pero bien esto será algo que iré aprendiendo con el tiempo."
      ]
    }
  ]
}