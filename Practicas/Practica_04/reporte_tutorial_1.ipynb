{
  "nbformat": 4,
  "nbformat_minor": 0,
  "metadata": {
    "colab": {
      "name": "reporte_tutorial_1.ipynb",
      "provenance": []
    },
    "kernelspec": {
      "name": "python3",
      "display_name": "Python 3"
    },
    "language_info": {
      "name": "python"
    }
  },
  "cells": [
    {
      "cell_type": "markdown",
      "metadata": {
        "id": "f4S8IKukgEED"
      },
      "source": [
        "## Reporte Práctica 4\n",
        "## CI-0163   Análisis de Grandes Volúmenes de Datos\n",
        "## Daniel Ricardo Ramírez Umaña, B45675"
      ]
    },
    {
      "cell_type": "markdown",
      "metadata": {
        "id": "bE3p2jsFf_c1"
      },
      "source": [
        "## Random Forest"
      ]
    },
    {
      "cell_type": "markdown",
      "metadata": {
        "id": "dNisIpurgLwV"
      },
      "source": [
        "### 1. Código y aprendizaje de la práctica 4 (30%)"
      ]
    },
    {
      "cell_type": "markdown",
      "metadata": {
        "id": "QO0HbTTnhACZ"
      },
      "source": [
        "#### &emsp; 1.1 Random Forest Algorithm\n",
        "\n",
        "Las predicciones de los árboles se promedian entre todos los árboles de decisión, esto resulta en un mejor rendimiento que cualquier árbol individual del modelo.\n",
        "\n",
        "Los árboles de decisión pueden utilizarse tanto para predecir mediante Redresión como Clasificación.\n",
        "* Regresión: La predicción es la media de las predicciones de los árboles de decisión.\n",
        "* Clasificación: La predicción es la etiqueta de clase de la mayoría de los votos ."
      ]
    },
    {
      "cell_type": "markdown",
      "metadata": {
        "id": "VcRx-RBeiCXc"
      },
      "source": [
        "#### &emsp; 1.2 Random Forest Scikit-Learn API\n",
        "\n",
        "La biblioteca de aprendizaje automático scikit-learn Python proporciona una implementación de Random Forest para el aprendizaje automático.\n",
        "\n"
      ]
    },
    {
      "cell_type": "code",
      "metadata": {
        "colab": {
          "base_uri": "https://localhost:8080/"
        },
        "id": "v3PRbBzSf8J6",
        "outputId": "d145d67a-da5c-4687-9f49-9689c1a6a32f"
      },
      "source": [
        "# chequeando la versión scikit-learn\n",
        "import sklearn\n",
        "print(sklearn.__version__)"
      ],
      "execution_count": 1,
      "outputs": [
        {
          "output_type": "stream",
          "name": "stdout",
          "text": [
            "0.22.2.post1\n"
          ]
        }
      ]
    },
    {
      "cell_type": "markdown",
      "metadata": {
        "id": "otlafbu1jdnQ"
      },
      "source": [
        "#### &emsp; 1.3 Random Forest para Clasificación\n",
        "\n",
        "Para esto podemos hacer uso de la función `make_classification()`"
      ]
    },
    {
      "cell_type": "code",
      "metadata": {
        "colab": {
          "base_uri": "https://localhost:8080/"
        },
        "id": "FbZNnQM3jh9t",
        "outputId": "fb90cc11-d647-4358-811a-54fff7218092"
      },
      "source": [
        "# test classification dataset\n",
        "from sklearn.datasets import make_classification\n",
        "\n",
        "# definomos el dataset\n",
        "X, y = make_classification(n_samples=1000, n_features=20, n_informative=15, n_redundant=5, random_state=3)\n",
        "\n",
        "# resumen del dataset\n",
        "print(X.shape, y.shape)"
      ],
      "execution_count": 2,
      "outputs": [
        {
          "output_type": "stream",
          "name": "stdout",
          "text": [
            "(1000, 20) (1000,)\n"
          ]
        }
      ]
    },
    {
      "cell_type": "markdown",
      "metadata": {
        "id": "0tIVz5u4khIS"
      },
      "source": [
        "Podemos utilizar repetidamente **k-fold cross-validation** y con esto podemos reportar la media y la desviación estándar del **accuracy (precisión)** del modelo en todas las repeticiones y folds."
      ]
    },
    {
      "cell_type": "code",
      "metadata": {
        "colab": {
          "base_uri": "https://localhost:8080/"
        },
        "id": "R36RAwtvlv3g",
        "outputId": "d7b3679d-7695-4a71-c843-8381f09d2d1b"
      },
      "source": [
        "# evaluate random forest algorithm for classification\n",
        "from numpy import mean\n",
        "from numpy import std\n",
        "from sklearn.datasets import make_classification\n",
        "from sklearn.model_selection import cross_val_score\n",
        "from sklearn.model_selection import RepeatedStratifiedKFold\n",
        "from sklearn.ensemble import RandomForestClassifier\n",
        "\n",
        "# definimos el dataset\n",
        "X, y = make_classification(n_samples=1000, n_features=20, n_informative=15, n_redundant=5, random_state=3)\n",
        "\n",
        "# definimos el modelo\n",
        "model = RandomForestClassifier()\n",
        "\n",
        "# evaluamos el modelo\n",
        "cv = RepeatedStratifiedKFold(n_splits=10, n_repeats=3, random_state=1)\n",
        "n_scores = cross_val_score(model, X, y, scoring='accuracy', cv=cv, n_jobs=-1, error_score='raise')\n",
        "\n",
        "# se reporta el rendimiento\n",
        "print('Accuracy: %.3f (%.3f)' % (mean(n_scores), std(n_scores)))"
      ],
      "execution_count": 3,
      "outputs": [
        {
          "output_type": "stream",
          "name": "stdout",
          "text": [
            "Accuracy: 0.902 (0.030)\n"
          ]
        }
      ]
    },
    {
      "cell_type": "code",
      "metadata": {
        "colab": {
          "base_uri": "https://localhost:8080/"
        },
        "id": "hRVQFkqymUck",
        "outputId": "86eb25fa-d976-4c12-e899-ade6d5ec57e0"
      },
      "source": [
        "# make predictions using random forest for classification\n",
        "from sklearn.datasets import make_classification\n",
        "from sklearn.ensemble import RandomForestClassifier\n",
        "\n",
        "# se define el dataset\n",
        "X, y = make_classification(n_samples=1000, n_features=20, n_informative=15, n_redundant=5, random_state=3)\n",
        "\n",
        "# definimos el modelo\n",
        "model = RandomForestClassifier()\n",
        "\n",
        "# ajustamos el modelo a todo el dataset\n",
        "model.fit(X, y)\n",
        "\n",
        "# hacemos una única predicción\n",
        "row = [[-8.52381793,5.24451077,-12.14967704,-2.92949242,0.99314133,0.67326595,-0.38657932,1.27955683,-0.60712621,3.20807316,0.60504151,-1.38706415,8.92444588,-7.43027595,-2.33653219,1.10358169,0.21547782,1.05057966,0.6975331,0.26076035]]\n",
        "yhat = model.predict(row)\n",
        "print('Predicted Class: %d' % yhat[0])"
      ],
      "execution_count": 4,
      "outputs": [
        {
          "output_type": "stream",
          "name": "stdout",
          "text": [
            "Predicted Class: 0\n"
          ]
        }
      ]
    },
    {
      "cell_type": "markdown",
      "metadata": {
        "id": "QTBFkNtltuNq"
      },
      "source": [
        "Como se puede ver, la observación fue predicha como clase 0"
      ]
    },
    {
      "cell_type": "markdown",
      "metadata": {
        "id": "IEWFeUHom9hF"
      },
      "source": [
        "#### &emsp; 1.4 Random Forest para Regresión\n",
        "\n",
        "Podemos usar la función  `make_regression()` para poder realizar esta tarea\n"
      ]
    },
    {
      "cell_type": "code",
      "metadata": {
        "colab": {
          "base_uri": "https://localhost:8080/"
        },
        "id": "qPgkxtvbn3YQ",
        "outputId": "368f8c6c-1b08-4596-b094-e3390abf510a"
      },
      "source": [
        "# test regression dataset\n",
        "from sklearn.datasets import make_regression\n",
        "\n",
        "# definimos el dataset\n",
        "X, y = make_regression(n_samples=1000, n_features=20, n_informative=15, noise=0.1, random_state=2)\n",
        "\n",
        "# resumen del dataset\n",
        "print(X.shape, y.shape)"
      ],
      "execution_count": 5,
      "outputs": [
        {
          "output_type": "stream",
          "name": "stdout",
          "text": [
            "(1000, 20) (1000,)\n"
          ]
        }
      ]
    },
    {
      "cell_type": "markdown",
      "metadata": {
        "id": "T6Y7FNkWn8bz"
      },
      "source": [
        "Para este caso también vamos a hacer un **k-fold cross validation** y medir el rendimiento de cada uno. Para este caso se reportará la **media de error absoluto (mean absolute error - MAE)**."
      ]
    },
    {
      "cell_type": "code",
      "metadata": {
        "colab": {
          "base_uri": "https://localhost:8080/"
        },
        "id": "kjVCvc9iorD9",
        "outputId": "71066a2c-07c8-47ef-8539-177919e19932"
      },
      "source": [
        "# evaluamos un random forest ensemble para regresión\n",
        "from numpy import mean\n",
        "from numpy import std\n",
        "from sklearn.datasets import make_regression\n",
        "from sklearn.model_selection import cross_val_score\n",
        "from sklearn.model_selection import RepeatedKFold\n",
        "from sklearn.ensemble import RandomForestRegressor\n",
        "\n",
        "# definimos el dataset\n",
        "X, y = make_regression(n_samples=1000, n_features=20, n_informative=15, noise=0.1, random_state=2)\n",
        "\n",
        "# definimos el modelo\n",
        "model = RandomForestRegressor()\n",
        "\n",
        "# evaluamos el modelo\n",
        "cv = RepeatedKFold(n_splits=10, n_repeats=3, random_state=1)\n",
        "n_scores = cross_val_score(model, X, y, scoring='neg_mean_absolute_error', cv=cv, n_jobs=-1, error_score='raise')\n",
        "\n",
        "# reporte de rendimiento\n",
        "print('MAE: %.3f (%.3f)' % (mean(n_scores), std(n_scores)))"
      ],
      "execution_count": 6,
      "outputs": [
        {
          "output_type": "stream",
          "name": "stdout",
          "text": [
            "MAE: -90.365 (8.357)\n"
          ]
        }
      ]
    },
    {
      "cell_type": "markdown",
      "metadata": {
        "id": "VLDlzqiJo_tc"
      },
      "source": [
        "En este caso, podemos ver que el conjunto de bosques aleatorios con hiperparámetros por defecto alcanza un MAE de aproximadamente 90."
      ]
    },
    {
      "cell_type": "markdown",
      "metadata": {
        "id": "sQzaEO3xpPFO"
      },
      "source": [
        "En primer lugar, el conjunto de bosques aleatorios se ajusta a todos los datos disponibles y, a continuación, se puede llamar a la función predict() para realizar predicciones sobre nuevos datos."
      ]
    },
    {
      "cell_type": "code",
      "metadata": {
        "colab": {
          "base_uri": "https://localhost:8080/"
        },
        "id": "QakUz2FKnJ4H",
        "outputId": "cd30cf4c-fff7-42bb-daab-074178b0ba87"
      },
      "source": [
        "# random forest para hacer decisiones por predicción\n",
        "from sklearn.datasets import make_regression\n",
        "from sklearn.ensemble import RandomForestRegressor\n",
        "\n",
        "# definimos el dataset\n",
        "X, y = make_regression(n_samples=1000, n_features=20, n_informative=15, noise=0.1, random_state=2)\n",
        "\n",
        "# definimos el modelo\n",
        "model = RandomForestRegressor()\n",
        "\n",
        "# ajustamos el modelo a todo el dataset\n",
        "model.fit(X, y)\n",
        "\n",
        "# se realiza una única predicción\n",
        "row = [[-0.89483109,-1.0670149,-0.25448694,-0.53850126,0.21082105,1.37435592,0.71203659,0.73093031,-1.25878104,-2.01656886,0.51906798,0.62767387,0.96250155,1.31410617,-1.25527295,-0.85079036,0.24129757,-0.17571721,-1.11454339,0.36268268]]\n",
        "yhat = model.predict(row)\n",
        "print('Prediction: %d' % yhat[0])"
      ],
      "execution_count": 7,
      "outputs": [
        {
          "output_type": "stream",
          "name": "stdout",
          "text": [
            "Prediction: -151\n"
          ]
        }
      ]
    },
    {
      "cell_type": "markdown",
      "metadata": {
        "id": "Ub4JAB_krW4B"
      },
      "source": [
        "#### &emsp; 1.5 Hiperparámetros del Random Forest\n",
        "\n"
      ]
    },
    {
      "cell_type": "markdown",
      "metadata": {
        "id": "r3oBhk1Qt1xG"
      },
      "source": [
        "###### &emsp;&emsp; 1.5.1 Explorar el Número de Muestras\n",
        "\n",
        "Para entrenar nuestros modelos, podemos por medio del **bootstrap sample** indicar de cuánto queremos que sean las muestras y si es que queremos usar todo el dataset podemos poner esta valor en  `False`, pero esto no es recomendado"
      ]
    },
    {
      "cell_type": "code",
      "metadata": {
        "colab": {
          "base_uri": "https://localhost:8080/",
          "height": 439
        },
        "id": "HzJQMr6ZtzBs",
        "outputId": "fe6b8828-bc4a-4505-b874-a7b940471f3e"
      },
      "source": [
        "# explore random forest bootstrap sample size on performance\n",
        "from numpy import mean\n",
        "from numpy import std\n",
        "from numpy import arange\n",
        "from sklearn.datasets import make_classification\n",
        "from sklearn.model_selection import cross_val_score\n",
        "from sklearn.model_selection import RepeatedStratifiedKFold\n",
        "from sklearn.ensemble import RandomForestClassifier\n",
        "from matplotlib import pyplot\n",
        "\n",
        "# get the dataset\n",
        "def get_dataset():\n",
        "\tX, y = make_classification(n_samples=1000, n_features=20, n_informative=15, n_redundant=5, random_state=3)\n",
        "\treturn X, y\n",
        "\n",
        "# get a list of models to evaluate\n",
        "def get_models():\n",
        "\tmodels = dict()\n",
        "\t# explore ratios from 10% to 100% in 10% increments\n",
        "\tfor i in arange(0.1, 1.1, 0.1):\n",
        "\t\tkey = '%.1f' % i\n",
        "\t\t# set max_samples=None to use 100%\n",
        "\t\tif i == 1.0:\n",
        "\t\t\ti = None\n",
        "\t\tmodels[key] = RandomForestClassifier(max_samples=i)\n",
        "\treturn models\n",
        "\n",
        "# evaluate a given model using cross-validation\n",
        "def evaluate_model(model, X, y):\n",
        "\t# define the evaluation procedure\n",
        "\tcv = RepeatedStratifiedKFold(n_splits=10, n_repeats=3, random_state=1)\n",
        "\t# evaluate the model and collect the results\n",
        "\tscores = cross_val_score(model, X, y, scoring='accuracy', cv=cv, n_jobs=-1)\n",
        "\treturn scores\n",
        "\n",
        "# define dataset\n",
        "X, y = get_dataset()\n",
        "# get the models to evaluate\n",
        "models = get_models()\n",
        "# evaluate the models and store results\n",
        "results, names = list(), list()\n",
        "for name, model in models.items():\n",
        "\t# evaluate the model\n",
        "\tscores = evaluate_model(model, X, y)\n",
        "\t# store the results\n",
        "\tresults.append(scores)\n",
        "\tnames.append(name)\n",
        "\t# summarize the performance along the way\n",
        "\tprint('>%s %.3f (%.3f)' % (name, mean(scores), std(scores)))\n",
        "# plot model performance for comparison\n",
        "pyplot.boxplot(results, labels=names, showmeans=True)\n",
        "pyplot.show()"
      ],
      "execution_count": 8,
      "outputs": [
        {
          "output_type": "stream",
          "name": "stdout",
          "text": [
            ">0.1 0.857 (0.027)\n",
            ">0.2 0.873 (0.026)\n",
            ">0.3 0.878 (0.023)\n",
            ">0.4 0.889 (0.026)\n",
            ">0.5 0.893 (0.025)\n",
            ">0.6 0.902 (0.028)\n",
            ">0.7 0.896 (0.022)\n",
            ">0.8 0.896 (0.022)\n",
            ">0.9 0.904 (0.024)\n",
            ">1.0 0.902 (0.025)\n"
          ]
        },
        {
          "output_type": "display_data",
          "data": {
            "image/png": "[encoded data removed]",
            "text/plain": [
              "<Figure size 432x288 with 1 Axes>"
            ]
          },
          "metadata": {
            "needs_background": "light"
          }
        }
      ]
    },
    {
      "cell_type": "markdown",
      "metadata": {
        "id": "NYSWGtsCwTGJ"
      },
      "source": [
        "##### &emsp;&emsp; 1.5.2 Explorar el Número de Features\n",
        "\n",
        "El número de **features (características o variables)** que se utilice en cada **split** del árbol de decisión es talvez el parámetro más importante de estos modelos.\n",
        "\n",
        "Para esto podemos ajustar el valor de `max_features` por ejemplo a un valor de `sqrt(20)`"
      ]
    },
    {
      "cell_type": "code",
      "metadata": {
        "colab": {
          "base_uri": "https://localhost:8080/",
          "height": 387
        },
        "id": "EFf01FM-xfdG",
        "outputId": "880ac07b-cffa-476d-c42a-6016261dc917"
      },
      "source": [
        "# explore random forest number of features effect on performance\n",
        "from numpy import mean\n",
        "from numpy import std\n",
        "from sklearn.datasets import make_classification\n",
        "from sklearn.model_selection import cross_val_score\n",
        "from sklearn.model_selection import RepeatedStratifiedKFold\n",
        "from sklearn.ensemble import RandomForestClassifier\n",
        "from matplotlib import pyplot\n",
        "\n",
        "# get the dataset\n",
        "def get_dataset():\n",
        "\tX, y = make_classification(n_samples=1000, n_features=20, n_informative=15, n_redundant=5, random_state=3)\n",
        "\treturn X, y\n",
        "\n",
        "# get a list of models to evaluate\n",
        "def get_models():\n",
        "\tmodels = dict()\n",
        "\t# explore number of features from 1 to 7\n",
        "\tfor i in range(1,8):\n",
        "\t\tmodels[str(i)] = RandomForestClassifier(max_features=i)\n",
        "\treturn models\n",
        "\n",
        "# evaluate a given model using cross-validation\n",
        "def evaluate_model(model, X, y):\n",
        "\t# define the evaluation procedure\n",
        "\tcv = RepeatedStratifiedKFold(n_splits=10, n_repeats=3, random_state=1)\n",
        "\t# evaluate the model and collect the results\n",
        "\tscores = cross_val_score(model, X, y, scoring='accuracy', cv=cv, n_jobs=-1)\n",
        "\treturn scores\n",
        "\n",
        "# define dataset\n",
        "X, y = get_dataset()\n",
        "# get the models to evaluate\n",
        "models = get_models()\n",
        "# evaluate the models and store results\n",
        "results, names = list(), list()\n",
        "for name, model in models.items():\n",
        "\t# evaluate the model\n",
        "\tscores = evaluate_model(model, X, y)\n",
        "\t# store the results\n",
        "\tresults.append(scores)\n",
        "\tnames.append(name)\n",
        "\t# summarize the performance along the way\n",
        "\tprint('>%s %.3f (%.3f)' % (name, mean(scores), std(scores)))\n",
        "# plot model performance for comparison\n",
        "pyplot.boxplot(results, labels=names, showmeans=True)\n",
        "pyplot.show()"
      ],
      "execution_count": 9,
      "outputs": [
        {
          "output_type": "stream",
          "name": "stdout",
          "text": [
            ">1 0.892 (0.023)\n",
            ">2 0.904 (0.027)\n",
            ">3 0.901 (0.028)\n",
            ">4 0.901 (0.026)\n",
            ">5 0.895 (0.025)\n",
            ">6 0.896 (0.024)\n",
            ">7 0.894 (0.027)\n"
          ]
        },
        {
          "output_type": "display_data",
          "data": {
            "image/png": "[encoded data removed]",
            "text/plain": [
              "<Figure size 432x288 with 1 Axes>"
            ]
          },
          "metadata": {
            "needs_background": "light"
          }
        }
      ]
    },
    {
      "cell_type": "markdown",
      "metadata": {
        "id": "pVdyQpMEx1D0"
      },
      "source": [
        "Para este caso en particular pareciera que los features 2, 3 y 4 serían los más indicados a utilizar presentando una menor desviación estándar"
      ]
    },
    {
      "cell_type": "markdown",
      "metadata": {
        "id": "vnSPkpEhyJ4k"
      },
      "source": [
        "##### &emsp;&emsp; 1.5.3 Explorar el Número de Árboles\n",
        "\n",
        "La cantidad de árboles del modelo suele incrementarse hasta que se estabolice el desempeño del modelo. Este se puede ajustar al usar `n_estimators` y su valor por defecto es de 100."
      ]
    },
    {
      "cell_type": "code",
      "metadata": {
        "colab": {
          "base_uri": "https://localhost:8080/",
          "height": 352
        },
        "id": "6UngamiTtpj5",
        "outputId": "67135b09-a3c7-48a2-bf74-964bcbcf5545"
      },
      "source": [
        "# explore random forest number of trees effect on performance\n",
        "from numpy import mean\n",
        "from numpy import std\n",
        "from sklearn.datasets import make_classification\n",
        "from sklearn.model_selection import cross_val_score\n",
        "from sklearn.model_selection import RepeatedStratifiedKFold\n",
        "from sklearn.ensemble import RandomForestClassifier\n",
        "from matplotlib import pyplot\n",
        "\n",
        "# get the dataset\n",
        "def get_dataset():\n",
        "\tX, y = make_classification(n_samples=1000, n_features=20, n_informative=15, n_redundant=5, random_state=3)\n",
        "\treturn X, y\n",
        "\n",
        "# get a list of models to evaluate\n",
        "def get_models():\n",
        "\tmodels = dict()\n",
        "\t# define number of trees to consider\n",
        "\tn_trees = [10, 50, 100, 500, 1000]\n",
        "\tfor n in n_trees:\n",
        "\t\tmodels[str(n)] = RandomForestClassifier(n_estimators=n)\n",
        "\treturn models\n",
        "\n",
        "# evaluate a given model using cross-validation\n",
        "def evaluate_model(model, X, y):\n",
        "\t# define the evaluation procedure\n",
        "\tcv = RepeatedStratifiedKFold(n_splits=10, n_repeats=3, random_state=1)\n",
        "\t# evaluate the model and collect the results\n",
        "\tscores = cross_val_score(model, X, y, scoring='accuracy', cv=cv, n_jobs=-1)\n",
        "\treturn scores\n",
        "\n",
        "# define dataset\n",
        "X, y = get_dataset()\n",
        "# get the models to evaluate\n",
        "models = get_models()\n",
        "# evaluate the models and store results\n",
        "results, names = list(), list()\n",
        "for name, model in models.items():\n",
        "\t# evaluate the model\n",
        "\tscores = evaluate_model(model, X, y)\n",
        "\t# store the results\n",
        "\tresults.append(scores)\n",
        "\tnames.append(name)\n",
        "\t# summarize the performance along the way\n",
        "\tprint('>%s %.3f (%.3f)' % (name, mean(scores), std(scores)))\n",
        "# plot model performance for comparison\n",
        "pyplot.boxplot(results, labels=names, showmeans=True)\n",
        "pyplot.show()"
      ],
      "execution_count": 10,
      "outputs": [
        {
          "output_type": "stream",
          "name": "stdout",
          "text": [
            ">10 0.869 (0.038)\n",
            ">50 0.896 (0.025)\n",
            ">100 0.901 (0.024)\n",
            ">500 0.906 (0.025)\n",
            ">1000 0.909 (0.023)\n"
          ]
        },
        {
          "output_type": "display_data",
          "data": {
            "image/png": "[encoded data removed]",
            "text/plain": [
              "<Figure size 432x288 with 1 Axes>"
            ]
          },
          "metadata": {
            "needs_background": "light"
          }
        }
      ]
    },
    {
      "cell_type": "markdown",
      "metadata": {
        "id": "4Ubv01NYmqsQ"
      },
      "source": [
        ""
      ]
    },
    {
      "cell_type": "markdown",
      "metadata": {
        "id": "-kPzxQxj0jWS"
      },
      "source": [
        "##### &emsp;&emsp; Explorar la Profundidad del Árbol\n",
        "\n",
        "Estos por lo general de construyen de forma binaria y no se 'podan' (no se eliminan ramas). Sin embargo, es posible establecer una profundidad al usar `max_depth`"
      ]
    },
    {
      "cell_type": "code",
      "metadata": {
        "colab": {
          "base_uri": "https://localhost:8080/",
          "height": 404
        },
        "id": "duIe0fm81S6Y",
        "outputId": "9be59233-064d-4e61-8dd9-19ca79d74816"
      },
      "source": [
        "# explore random forest tree depth effect on performance\n",
        "from numpy import mean\n",
        "from numpy import std\n",
        "from sklearn.datasets import make_classification\n",
        "from sklearn.model_selection import cross_val_score\n",
        "from sklearn.model_selection import RepeatedStratifiedKFold\n",
        "from sklearn.ensemble import RandomForestClassifier\n",
        "from matplotlib import pyplot\n",
        "\n",
        "# get the dataset\n",
        "def get_dataset():\n",
        "\tX, y = make_classification(n_samples=1000, n_features=20, n_informative=15, n_redundant=5, random_state=3)\n",
        "\treturn X, y\n",
        "\n",
        "# get a list of models to evaluate\n",
        "def get_models():\n",
        "\tmodels = dict()\n",
        "\t# consider tree depths from 1 to 7 and None=full\n",
        "\tdepths = [i for i in range(1,8)] + [None]\n",
        "\tfor n in depths:\n",
        "\t\tmodels[str(n)] = RandomForestClassifier(max_depth=n)\n",
        "\treturn models\n",
        "\n",
        "# evaluate a given model using cross-validation\n",
        "def evaluate_model(model, X, y):\n",
        "\t# define the evaluation procedure\n",
        "\tcv = RepeatedStratifiedKFold(n_splits=10, n_repeats=3, random_state=1)\n",
        "\t# evaluate the model and collect the results\n",
        "\tscores = cross_val_score(model, X, y, scoring='accuracy', cv=cv, n_jobs=-1)\n",
        "\treturn scores\n",
        "\n",
        "# define dataset\n",
        "X, y = get_dataset()\n",
        "# get the models to evaluate\n",
        "models = get_models()\n",
        "# evaluate the models and store results\n",
        "results, names = list(), list()\n",
        "for name, model in models.items():\n",
        "\t# evaluate the model\n",
        "\tscores = evaluate_model(model, X, y)\n",
        "\t# store the results\n",
        "\tresults.append(scores)\n",
        "\tnames.append(name)\n",
        "\t# summarize the performance along the way\n",
        "\tprint('>%s %.3f (%.3f)' % (name, mean(scores), std(scores)))\n",
        "# plot model performance for comparison\n",
        "pyplot.boxplot(results, labels=names, showmeans=True)\n",
        "pyplot.show()"
      ],
      "execution_count": 11,
      "outputs": [
        {
          "output_type": "stream",
          "name": "stdout",
          "text": [
            ">1 0.766 (0.043)\n",
            ">2 0.811 (0.038)\n",
            ">3 0.832 (0.033)\n",
            ">4 0.858 (0.030)\n",
            ">5 0.873 (0.024)\n",
            ">6 0.887 (0.025)\n",
            ">7 0.888 (0.024)\n",
            ">None 0.903 (0.026)\n"
          ]
        },
        {
          "output_type": "display_data",
          "data": {
            "image/png": "[encoded data removed]",
            "text/plain": [
              "<Figure size 432x288 with 1 Axes>"
            ]
          },
          "metadata": {
            "needs_background": "light"
          }
        }
      ]
    },
    {
      "cell_type": "markdown",
      "metadata": {
        "id": "XpLAbmSh1d3Q"
      },
      "source": [
        "Como se puede ver, entre más profundo el árbol, mejor su desempeño."
      ]
    },
    {
      "cell_type": "markdown",
      "metadata": {
        "id": "MYE_KaGZgNGM"
      },
      "source": [
        "### 2. Aspectos que no quedan claros o que quisiera conocer mejor (5%)"
      ]
    },
    {
      "cell_type": "markdown",
      "metadata": {
        "id": "eG9eekKN2F6m"
      },
      "source": [
        "Para este tema en particular no tengo niguna duda en particular, en sí cada hiperparámetro me parece tiene mucho sentido en su aplicación y me gustaría ya en práctica con el tiempo ir puliendo mi habilidad para ajustar estos parámetros de la mejor manera."
      ]
    },
    {
      "cell_type": "markdown",
      "metadata": {
        "id": "4j3GICBzgQ3n"
      },
      "source": [
        "### 3. Estudie el impacto que tiene cada parámetro en el modelo resultante y escriba un comentario breve sobre sus hayazgos (15%)"
      ]
    },
    {
      "cell_type": "markdown",
      "metadata": {
        "id": "2Qlk_l75u9c5"
      },
      "source": [
        "* En cuanto al **tamaño de la muestra** al ajustar el `max_samples` en entre 0 y 1 tenemos que un tamaño pequeño de muestra hará que los árboles sean más diferentes entre sí y uno más grande hará que estos sean muy similares. Al asignar a `max_samples` un `None` el tamaño de la muestra será el mismo al de todo el dataset.\n",
        "* En cuanto a la **cantidad de features** (características o variables) podría ser talvez el más importante. Ignorar aquellos features que tengan una mayor desviación estándar y que por ende pueda introducir más ruido en nuestro modelo puede ser de suma importancia para el desempeño de este.\n",
        "* En cuanto a la **cantidad de árboles** tenemos que esta se puede ir ajustando hasta que el modelo llegua a estabilizarse en cuanto a su rendimiento, lo que nos asegura que no haya mucha variabilidad en cuanto a su implementación (al menos suponiendo que los datos con que fue entrenado son representativos del mundo real).\n",
        "* En cuanto a la **profundidad del árbol**, entre más profundo es el árbol, su rendimiento suele ser mejor, pero es importante saber que esto puede hacer que su entrenamiento y posterior uso tenga un costo mayor en procesamiento, por lo que es importante medir costo-veneficio."
      ]
    }
  ]
}