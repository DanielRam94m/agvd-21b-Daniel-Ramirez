{
  "nbformat": 4,
  "nbformat_minor": 0,
  "metadata": {
    "colab": {
      "name": "reporte_tutorial_1.ipynb",
      "provenance": []
    },
    "kernelspec": {
      "name": "python3",
      "display_name": "Python 3"
    },
    "language_info": {
      "name": "python"
    }
  },
  "cells": [
    {
      "cell_type": "markdown",
      "metadata": {
        "id": "vCRgXZYsAkTb"
      },
      "source": [
        "## **Modelos de Redes Neuronales para Clasificación y Regresión Combinadas**\n",
        "## CI-0163   Análisis de Grandes Volúmenes de Datos\n",
        "## Daniel Ricardo Ramírez Umaña, B45675\n",
        "***"
      ]
    },
    {
      "cell_type": "markdown",
      "metadata": {
        "id": "5I0G8zlSBHHC"
      },
      "source": [
        "Algunos modelos requieren para sus predicciones que estas puedan ser variables numéricas o categóricas. Para esto podemos usar un enfoque basado en desarrolar modelos predictivos y de clasificación sobre los mismos datos y usar modelos de forma secuencial, o bien se puede usar un enfoque llamado **multi-output model** que se basa en desarrollar un único modelo de red neuronal que pueda predecir tanto un valor numérico como una etiqueta de clase a partir de la misma entrada. Este es relativamente fácil de desarrolar y de evaluar utilizano bibliotecas modernas de aprendizaje."
      ]
    },
    {
      "cell_type": "markdown",
      "metadata": {
        "id": "QvMuHDWTDgA9"
      },
      "source": [
        "### **Modelo Único de Regresión y Clasificación**"
      ]
    },
    {
      "cell_type": "markdown",
      "metadata": {
        "id": "iAsRJZYGEEG1"
      },
      "source": [
        "Para esto podemos hacer uso de dos enfoques, uno de estos es realizar la regresión y la clasificación por aparte y de forma secuencial, o bien usar un modelo que combine ambos tipos de clasificación a la vez."
      ]
    },
    {
      "cell_type": "markdown",
      "metadata": {
        "id": "NQLy7B-NE4j5"
      },
      "source": [
        "#### **Separar los Modelos de Regresión y de Clasificación**"
      ]
    },
    {
      "cell_type": "markdown",
      "metadata": {
        "id": "8QO9Dm4gJE5D"
      },
      "source": [
        "Se importan las librerías"
      ]
    },
    {
      "cell_type": "code",
      "metadata": {
        "id": "Hsctwux6JJvF"
      },
      "source": [
        "# regression mlp model for the abalone dataset\n",
        "from pandas import read_csv\n",
        "from tensorflow.keras.models import Sequential\n",
        "from tensorflow.keras.layers import Dense\n",
        "from sklearn.metrics import mean_absolute_error\n",
        "from sklearn.model_selection import train_test_split"
      ],
      "execution_count": 9,
      "outputs": []
    },
    {
      "cell_type": "markdown",
      "metadata": {
        "id": "XaGA6exaFrXv"
      },
      "source": [
        "Descargamos y observamos un resumen de la información del dataset de Abalone"
      ]
    },
    {
      "cell_type": "code",
      "metadata": {
        "colab": {
          "base_uri": "https://localhost:8080/"
        },
        "id": "bIj7NwgCFQW3",
        "outputId": "46b11be1-86c6-449c-acae-9e28de72b0fa"
      },
      "source": [
        "# load and summarize the abalone dataset\n",
        "from matplotlib import pyplot\n",
        "# load dataset\n",
        "url = 'https://raw.githubusercontent.com/jbrownlee/Datasets/master/abalone.csv'\n",
        "dataframe = read_csv(url, header=None)\n",
        "# summarize shape\n",
        "print(dataframe.shape)\n",
        "# summarize first few lines\n",
        "print(dataframe.head())"
      ],
      "execution_count": 10,
      "outputs": [
        {
          "output_type": "stream",
          "name": "stdout",
          "text": [
            "(4177, 9)\n",
            "   0      1      2      3       4       5       6      7   8\n",
            "0  M  0.455  0.365  0.095  0.5140  0.2245  0.1010  0.150  15\n",
            "1  M  0.350  0.265  0.090  0.2255  0.0995  0.0485  0.070   7\n",
            "2  F  0.530  0.420  0.135  0.6770  0.2565  0.1415  0.210   9\n",
            "3  M  0.440  0.365  0.125  0.5160  0.2155  0.1140  0.155  10\n",
            "4  I  0.330  0.255  0.080  0.2050  0.0895  0.0395  0.055   7\n"
          ]
        }
      ]
    },
    {
      "cell_type": "markdown",
      "metadata": {
        "id": "a2ioF_5LGb1i"
      },
      "source": [
        "##### **Modelo de Regresión**"
      ]
    },
    {
      "cell_type": "markdown",
      "metadata": {
        "id": "GRs00AQRHHls"
      },
      "source": [
        "Separamos las columnas en elementos de entrada y de salida"
      ]
    },
    {
      "cell_type": "code",
      "metadata": {
        "id": "I4ogUPFNHCWH"
      },
      "source": [
        "# split into input (X) and output (y) variables\n",
        "X, y = dataset[:, 1:-1], dataset[:, -1]\n",
        "X, y = X.astype('float'), y.astype('float')\n",
        "n_features = X.shape[1]"
      ],
      "execution_count": 11,
      "outputs": []
    },
    {
      "cell_type": "markdown",
      "metadata": {
        "id": "AYkNtfVOJkuQ"
      },
      "source": [
        "Dividimos el dataset entre 67% de entrenamiento y 33% de testeo"
      ]
    },
    {
      "cell_type": "code",
      "metadata": {
        "id": "kkZKolD-JuYZ"
      },
      "source": [
        "# split data into train and test sets\n",
        "X_train, X_test, y_train, y_test = train_test_split(X, y, test_size=0.33, random_state=1)"
      ],
      "execution_count": 12,
      "outputs": []
    },
    {
      "cell_type": "markdown",
      "metadata": {
        "id": "-fVPcxpgJ5jO"
      },
      "source": [
        "Definimos el modelo de Red Neuronal\\\n",
        "El modelo tendrá dos capas ocultas, la primera con 20 nodos y la segunda con 10 nodos, ambas utilizando activación ReLU e inicialización de pesos \"he normal\" (una buena práctica). El número de capas y nodos se ha elegido de forma arbitraria.\\\n",
        "La capa de salida tendrá un único nodo para predecir un valor numérico y una función de activación lineal."
      ]
    },
    {
      "cell_type": "code",
      "metadata": {
        "id": "_qP3-fEyJ9_t"
      },
      "source": [
        "# define the keras model\n",
        "model = Sequential()\n",
        "model.add(Dense(20, input_dim=n_features, activation='relu', kernel_initializer='he_normal'))\n",
        "model.add(Dense(10, activation='relu', kernel_initializer='he_normal'))\n",
        "model.add(Dense(1, activation='linear'))"
      ],
      "execution_count": 13,
      "outputs": []
    },
    {
      "cell_type": "markdown",
      "metadata": {
        "id": "0Lma0tZOK95t"
      },
      "source": [
        "Ahora entrenamos el modelo para minimizar el error medio cuadrado (MSE)"
      ]
    },
    {
      "cell_type": "code",
      "metadata": {
        "id": "O5LKTHiNLH7y"
      },
      "source": [
        "# compile the keras model\n",
        "model.compile(loss='mse', optimizer='adam')"
      ],
      "execution_count": 14,
      "outputs": []
    },
    {
      "cell_type": "markdown",
      "metadata": {
        "id": "YodDb1b-Lhb0"
      },
      "source": [
        "Ahora se entrena el modelo por 150 épocas con 32 muestras de minilotes escogidas aleatoriamente"
      ]
    },
    {
      "cell_type": "code",
      "metadata": {
        "colab": {
          "base_uri": "https://localhost:8080/"
        },
        "id": "UIS0xCNtLzFd",
        "outputId": "f05d2d31-00ab-42eb-cb01-adcd788089e2"
      },
      "source": [
        "# fit the keras model on the dataset\n",
        "model.fit(X_train, y_train, epochs=150, batch_size=32, verbose=2)"
      ],
      "execution_count": 15,
      "outputs": [
        {
          "output_type": "stream",
          "name": "stdout",
          "text": [
            "Epoch 1/150\n",
            "88/88 - 0s - loss: 55.4883\n",
            "Epoch 2/150\n",
            "88/88 - 0s - loss: 15.8084\n",
            "Epoch 3/150\n",
            "88/88 - 0s - loss: 9.9737\n",
            "Epoch 4/150\n",
            "88/88 - 0s - loss: 9.1230\n",
            "Epoch 5/150\n",
            "88/88 - 0s - loss: 8.3607\n",
            "Epoch 6/150\n",
            "88/88 - 0s - loss: 7.7211\n",
            "Epoch 7/150\n",
            "88/88 - 0s - loss: 7.2214\n",
            "Epoch 8/150\n",
            "88/88 - 0s - loss: 6.8821\n",
            "Epoch 9/150\n",
            "88/88 - 0s - loss: 6.6411\n",
            "Epoch 10/150\n",
            "88/88 - 0s - loss: 6.4969\n",
            "Epoch 11/150\n",
            "88/88 - 0s - loss: 6.3881\n",
            "Epoch 12/150\n",
            "88/88 - 0s - loss: 6.3041\n",
            "Epoch 13/150\n",
            "88/88 - 0s - loss: 6.2595\n",
            "Epoch 14/150\n",
            "88/88 - 0s - loss: 6.1845\n",
            "Epoch 15/150\n",
            "88/88 - 0s - loss: 6.1192\n",
            "Epoch 16/150\n",
            "88/88 - 0s - loss: 6.0665\n",
            "Epoch 17/150\n",
            "88/88 - 0s - loss: 6.0096\n",
            "Epoch 18/150\n",
            "88/88 - 0s - loss: 5.9453\n",
            "Epoch 19/150\n",
            "88/88 - 0s - loss: 5.9029\n",
            "Epoch 20/150\n",
            "88/88 - 0s - loss: 5.8394\n",
            "Epoch 21/150\n",
            "88/88 - 0s - loss: 5.7832\n",
            "Epoch 22/150\n",
            "88/88 - 0s - loss: 5.7369\n",
            "Epoch 23/150\n",
            "88/88 - 0s - loss: 5.7198\n",
            "Epoch 24/150\n",
            "88/88 - 0s - loss: 5.6401\n",
            "Epoch 25/150\n",
            "88/88 - 0s - loss: 5.6144\n",
            "Epoch 26/150\n",
            "88/88 - 0s - loss: 5.5576\n",
            "Epoch 27/150\n",
            "88/88 - 0s - loss: 5.5296\n",
            "Epoch 28/150\n",
            "88/88 - 0s - loss: 5.4640\n",
            "Epoch 29/150\n",
            "88/88 - 0s - loss: 5.4766\n",
            "Epoch 30/150\n",
            "88/88 - 0s - loss: 5.3991\n",
            "Epoch 31/150\n",
            "88/88 - 0s - loss: 5.3657\n",
            "Epoch 32/150\n",
            "88/88 - 0s - loss: 5.3096\n",
            "Epoch 33/150\n",
            "88/88 - 0s - loss: 5.2656\n",
            "Epoch 34/150\n",
            "88/88 - 0s - loss: 5.2449\n",
            "Epoch 35/150\n",
            "88/88 - 0s - loss: 5.2047\n",
            "Epoch 36/150\n",
            "88/88 - 0s - loss: 5.1764\n",
            "Epoch 37/150\n",
            "88/88 - 0s - loss: 5.1385\n",
            "Epoch 38/150\n",
            "88/88 - 0s - loss: 5.1102\n",
            "Epoch 39/150\n",
            "88/88 - 0s - loss: 5.0777\n",
            "Epoch 40/150\n",
            "88/88 - 0s - loss: 5.0562\n",
            "Epoch 41/150\n",
            "88/88 - 0s - loss: 5.0258\n",
            "Epoch 42/150\n",
            "88/88 - 0s - loss: 5.0208\n",
            "Epoch 43/150\n",
            "88/88 - 0s - loss: 4.9735\n",
            "Epoch 44/150\n",
            "88/88 - 0s - loss: 4.9658\n",
            "Epoch 45/150\n",
            "88/88 - 0s - loss: 4.9366\n",
            "Epoch 46/150\n",
            "88/88 - 0s - loss: 4.9311\n",
            "Epoch 47/150\n",
            "88/88 - 0s - loss: 4.9583\n",
            "Epoch 48/150\n",
            "88/88 - 0s - loss: 4.9212\n",
            "Epoch 49/150\n",
            "88/88 - 0s - loss: 4.9355\n",
            "Epoch 50/150\n",
            "88/88 - 0s - loss: 4.8951\n",
            "Epoch 51/150\n",
            "88/88 - 0s - loss: 4.8604\n",
            "Epoch 52/150\n",
            "88/88 - 0s - loss: 4.8547\n",
            "Epoch 53/150\n",
            "88/88 - 0s - loss: 4.8538\n",
            "Epoch 54/150\n",
            "88/88 - 0s - loss: 4.8668\n",
            "Epoch 55/150\n",
            "88/88 - 0s - loss: 4.8598\n",
            "Epoch 56/150\n",
            "88/88 - 0s - loss: 4.8400\n",
            "Epoch 57/150\n",
            "88/88 - 0s - loss: 4.8288\n",
            "Epoch 58/150\n",
            "88/88 - 0s - loss: 4.8345\n",
            "Epoch 59/150\n",
            "88/88 - 0s - loss: 4.8259\n",
            "Epoch 60/150\n",
            "88/88 - 0s - loss: 4.8544\n",
            "Epoch 61/150\n",
            "88/88 - 0s - loss: 4.7995\n",
            "Epoch 62/150\n",
            "88/88 - 0s - loss: 4.7952\n",
            "Epoch 63/150\n",
            "88/88 - 0s - loss: 4.7889\n",
            "Epoch 64/150\n",
            "88/88 - 0s - loss: 4.8202\n",
            "Epoch 65/150\n",
            "88/88 - 0s - loss: 4.7892\n",
            "Epoch 66/150\n",
            "88/88 - 0s - loss: 4.7925\n",
            "Epoch 67/150\n",
            "88/88 - 0s - loss: 4.8191\n",
            "Epoch 68/150\n",
            "88/88 - 0s - loss: 4.7866\n",
            "Epoch 69/150\n",
            "88/88 - 0s - loss: 4.7815\n",
            "Epoch 70/150\n",
            "88/88 - 0s - loss: 4.7551\n",
            "Epoch 71/150\n",
            "88/88 - 0s - loss: 4.7583\n",
            "Epoch 72/150\n",
            "88/88 - 0s - loss: 4.7506\n",
            "Epoch 73/150\n",
            "88/88 - 0s - loss: 4.7514\n",
            "Epoch 74/150\n",
            "88/88 - 0s - loss: 4.7578\n",
            "Epoch 75/150\n",
            "88/88 - 0s - loss: 4.7521\n",
            "Epoch 76/150\n",
            "88/88 - 0s - loss: 4.7459\n",
            "Epoch 77/150\n",
            "88/88 - 0s - loss: 4.7296\n",
            "Epoch 78/150\n",
            "88/88 - 0s - loss: 4.7413\n",
            "Epoch 79/150\n",
            "88/88 - 0s - loss: 4.7302\n",
            "Epoch 80/150\n",
            "88/88 - 0s - loss: 4.7169\n",
            "Epoch 81/150\n",
            "88/88 - 0s - loss: 4.7089\n",
            "Epoch 82/150\n",
            "88/88 - 0s - loss: 4.7346\n",
            "Epoch 83/150\n",
            "88/88 - 0s - loss: 4.6926\n",
            "Epoch 84/150\n",
            "88/88 - 0s - loss: 4.7076\n",
            "Epoch 85/150\n",
            "88/88 - 0s - loss: 4.6886\n",
            "Epoch 86/150\n",
            "88/88 - 0s - loss: 4.7172\n",
            "Epoch 87/150\n",
            "88/88 - 0s - loss: 4.6895\n",
            "Epoch 88/150\n",
            "88/88 - 0s - loss: 4.6820\n",
            "Epoch 89/150\n",
            "88/88 - 0s - loss: 4.6783\n",
            "Epoch 90/150\n",
            "88/88 - 0s - loss: 4.7332\n",
            "Epoch 91/150\n",
            "88/88 - 0s - loss: 4.6696\n",
            "Epoch 92/150\n",
            "88/88 - 0s - loss: 4.6826\n",
            "Epoch 93/150\n",
            "88/88 - 0s - loss: 4.6838\n",
            "Epoch 94/150\n",
            "88/88 - 0s - loss: 4.6661\n",
            "Epoch 95/150\n",
            "88/88 - 0s - loss: 4.6674\n",
            "Epoch 96/150\n",
            "88/88 - 0s - loss: 4.6504\n",
            "Epoch 97/150\n",
            "88/88 - 0s - loss: 4.6582\n",
            "Epoch 98/150\n",
            "88/88 - 0s - loss: 4.6665\n",
            "Epoch 99/150\n",
            "88/88 - 0s - loss: 4.6454\n",
            "Epoch 100/150\n",
            "88/88 - 0s - loss: 4.6394\n",
            "Epoch 101/150\n",
            "88/88 - 0s - loss: 4.6512\n",
            "Epoch 102/150\n",
            "88/88 - 0s - loss: 4.6495\n",
            "Epoch 103/150\n",
            "88/88 - 0s - loss: 4.6394\n",
            "Epoch 104/150\n",
            "88/88 - 0s - loss: 4.6582\n",
            "Epoch 105/150\n",
            "88/88 - 0s - loss: 4.6353\n",
            "Epoch 106/150\n",
            "88/88 - 0s - loss: 4.6365\n",
            "Epoch 107/150\n",
            "88/88 - 0s - loss: 4.6468\n",
            "Epoch 108/150\n",
            "88/88 - 0s - loss: 4.6129\n",
            "Epoch 109/150\n",
            "88/88 - 0s - loss: 4.6474\n",
            "Epoch 110/150\n",
            "88/88 - 0s - loss: 4.6286\n",
            "Epoch 111/150\n",
            "88/88 - 0s - loss: 4.6427\n",
            "Epoch 112/150\n",
            "88/88 - 0s - loss: 4.6036\n",
            "Epoch 113/150\n",
            "88/88 - 0s - loss: 4.6235\n",
            "Epoch 114/150\n",
            "88/88 - 0s - loss: 4.6294\n",
            "Epoch 115/150\n",
            "88/88 - 0s - loss: 4.6247\n",
            "Epoch 116/150\n",
            "88/88 - 0s - loss: 4.6060\n",
            "Epoch 117/150\n",
            "88/88 - 0s - loss: 4.6467\n",
            "Epoch 118/150\n",
            "88/88 - 0s - loss: 4.6228\n",
            "Epoch 119/150\n",
            "88/88 - 0s - loss: 4.6182\n",
            "Epoch 120/150\n",
            "88/88 - 0s - loss: 4.5899\n",
            "Epoch 121/150\n",
            "88/88 - 0s - loss: 4.5962\n",
            "Epoch 122/150\n",
            "88/88 - 0s - loss: 4.5997\n",
            "Epoch 123/150\n",
            "88/88 - 0s - loss: 4.5900\n",
            "Epoch 124/150\n",
            "88/88 - 0s - loss: 4.5859\n",
            "Epoch 125/150\n",
            "88/88 - 0s - loss: 4.5802\n",
            "Epoch 126/150\n",
            "88/88 - 0s - loss: 4.6261\n",
            "Epoch 127/150\n",
            "88/88 - 0s - loss: 4.5816\n",
            "Epoch 128/150\n",
            "88/88 - 0s - loss: 4.5886\n",
            "Epoch 129/150\n",
            "88/88 - 0s - loss: 4.5778\n",
            "Epoch 130/150\n",
            "88/88 - 0s - loss: 4.6046\n",
            "Epoch 131/150\n",
            "88/88 - 0s - loss: 4.6047\n",
            "Epoch 132/150\n",
            "88/88 - 0s - loss: 4.6057\n",
            "Epoch 133/150\n",
            "88/88 - 0s - loss: 4.5655\n",
            "Epoch 134/150\n",
            "88/88 - 0s - loss: 4.5512\n",
            "Epoch 135/150\n",
            "88/88 - 0s - loss: 4.5726\n",
            "Epoch 136/150\n",
            "88/88 - 0s - loss: 4.5550\n",
            "Epoch 137/150\n",
            "88/88 - 0s - loss: 4.5973\n",
            "Epoch 138/150\n",
            "88/88 - 0s - loss: 4.5494\n",
            "Epoch 139/150\n",
            "88/88 - 0s - loss: 4.5557\n",
            "Epoch 140/150\n",
            "88/88 - 0s - loss: 4.5605\n",
            "Epoch 141/150\n",
            "88/88 - 0s - loss: 4.5896\n",
            "Epoch 142/150\n",
            "88/88 - 0s - loss: 4.5543\n",
            "Epoch 143/150\n",
            "88/88 - 0s - loss: 4.5605\n",
            "Epoch 144/150\n",
            "88/88 - 0s - loss: 4.5393\n",
            "Epoch 145/150\n",
            "88/88 - 0s - loss: 4.5866\n",
            "Epoch 146/150\n",
            "88/88 - 0s - loss: 4.5810\n",
            "Epoch 147/150\n",
            "88/88 - 0s - loss: 4.5839\n",
            "Epoch 148/150\n",
            "88/88 - 0s - loss: 4.5559\n",
            "Epoch 149/150\n",
            "88/88 - 0s - loss: 4.5668\n",
            "Epoch 150/150\n",
            "88/88 - 0s - loss: 4.5342\n"
          ]
        },
        {
          "output_type": "execute_result",
          "data": {
            "text/plain": [
              "<keras.callbacks.History at 0x7fa5086bd090>"
            ]
          },
          "metadata": {},
          "execution_count": 15
        }
      ]
    },
    {
      "cell_type": "markdown",
      "metadata": {
        "id": "NotzeHQMMxYO"
      },
      "source": [
        "Finalmente evaluaremos el modelo y reporteremos le MSE Absoluto"
      ]
    },
    {
      "cell_type": "code",
      "metadata": {
        "colab": {
          "base_uri": "https://localhost:8080/"
        },
        "id": "1nzRmvhNM4k5",
        "outputId": "4df37e5e-dffc-4ce5-b0d4-773ad468b284"
      },
      "source": [
        "# evaluate on test set\n",
        "yhat = model.predict(X_test)\n",
        "error = mean_absolute_error(y_test, yhat)\n",
        "print('MAE: %.3f' % error)"
      ],
      "execution_count": 16,
      "outputs": [
        {
          "output_type": "stream",
          "name": "stdout",
          "text": [
            "MAE: 1.493\n"
          ]
        }
      ]
    },
    {
      "cell_type": "markdown",
      "metadata": {
        "id": "VceUSvPsNGeh"
      },
      "source": [
        "##### **Modelo de Clasificación**"
      ]
    },
    {
      "cell_type": "markdown",
      "metadata": {
        "id": "Cl2EtTMyQMQ3"
      },
      "source": [
        "Las dependencias"
      ]
    },
    {
      "cell_type": "code",
      "metadata": {
        "id": "jY3u_JntQOdI"
      },
      "source": [
        "# classification mlp model for the abalone dataset\n",
        "from numpy import unique\n",
        "from numpy import argmax\n",
        "from pandas import read_csv\n",
        "from tensorflow.keras.models import Sequential\n",
        "from tensorflow.keras.layers import Dense\n",
        "from sklearn.metrics import accuracy_score\n",
        "from sklearn.model_selection import train_test_split\n",
        "from sklearn.preprocessing import LabelEncoder"
      ],
      "execution_count": 18,
      "outputs": []
    },
    {
      "cell_type": "markdown",
      "metadata": {
        "id": "kPd-PN4xPPtP"
      },
      "source": [
        "Para ello es necesario asignar primero un número entero distinto para cada valor del \"anillo\", empezando por 0 y terminando por el número total de \"clases\" menos uno.\n",
        "\n",
        "Esto se puede conseguir utilizando el LabelEncoder.\n",
        "\n",
        "También podemos registrar el número total de clases como el número total de valores de clase únicos codificados, que serán necesarios para el modelo más adelante."
      ]
    },
    {
      "cell_type": "code",
      "metadata": {
        "id": "_HBNb6IINLca"
      },
      "source": [
        "# encode strings to integer\n",
        "y = LabelEncoder().fit_transform(y)\n",
        "n_class = len(unique(y))"
      ],
      "execution_count": 19,
      "outputs": []
    },
    {
      "cell_type": "markdown",
      "metadata": {
        "id": "7lqO_y12QaNG"
      },
      "source": [
        "Definimos el modelo y cambiamos el número de salidas para que iguale el número de clases y usar la función de activación softmax que es común para la clasificación multiclase."
      ]
    },
    {
      "cell_type": "code",
      "metadata": {
        "id": "CS0reJlSQyP2"
      },
      "source": [
        "# define the keras model\n",
        "model = Sequential()\n",
        "model.add(Dense(20, input_dim=n_features, activation='relu', kernel_initializer='he_normal'))\n",
        "model.add(Dense(10, activation='relu', kernel_initializer='he_normal'))\n",
        "model.add(Dense(n_class, activation='softmax'))"
      ],
      "execution_count": 20,
      "outputs": []
    },
    {
      "cell_type": "markdown",
      "metadata": {
        "id": "70Vs44ymQ5Nd"
      },
      "source": [
        "Se minimiza la función de pérdida de entropía cruzada categórica dispersa, apropiada para tareas de clasificación multiclase con etiquetas de clase codificadas en números enteros"
      ]
    },
    {
      "cell_type": "code",
      "metadata": {
        "id": "aTvHOeRhQ6lu"
      },
      "source": [
        "# compile the keras model\n",
        "model.compile(loss='sparse_categorical_crossentropy', optimizer='adam')"
      ],
      "execution_count": 21,
      "outputs": []
    },
    {
      "cell_type": "markdown",
      "metadata": {
        "id": "lNtb2SjcRtZY"
      },
      "source": [
        "Evaluamos el modelo con accuracy"
      ]
    },
    {
      "cell_type": "code",
      "metadata": {
        "colab": {
          "base_uri": "https://localhost:8080/"
        },
        "id": "MZcsKOh4RkWR",
        "outputId": "a7ee1a2b-087c-4acf-9794-a3a8e16927b5"
      },
      "source": [
        "# evaluate on test set\n",
        "yhat = model.predict(X_test)\n",
        "yhat = argmax(yhat, axis=-1).astype('int')\n",
        "acc = accuracy_score(y_test, yhat)\n",
        "print('Accuracy: %.3f' % acc)"
      ],
      "execution_count": 23,
      "outputs": [
        {
          "output_type": "stream",
          "name": "stdout",
          "text": [
            "Accuracy: 0.001\n"
          ]
        }
      ]
    },
    {
      "cell_type": "markdown",
      "metadata": {
        "id": "eKsaNpRmFLVB"
      },
      "source": [
        "#### **Combinar los Modelos de Regresión y de Clasificación**"
      ]
    },
    {
      "cell_type": "markdown",
      "metadata": {
        "id": "SPhrsui6R8Ht"
      },
      "source": [
        "Las dependencias"
      ]
    },
    {
      "cell_type": "code",
      "metadata": {
        "id": "5Id7yEU6R_O8"
      },
      "source": [
        "# mlp for combined regression and classification predictions on the abalone dataset\n",
        "from numpy import unique\n",
        "from numpy import argmax\n",
        "from pandas import read_csv\n",
        "from sklearn.metrics import mean_absolute_error\n",
        "from sklearn.metrics import accuracy_score\n",
        "from sklearn.model_selection import train_test_split\n",
        "from sklearn.preprocessing import LabelEncoder\n",
        "from tensorflow.keras.models import Model\n",
        "from tensorflow.keras.layers import Input\n",
        "from tensorflow.keras.layers import Dense\n",
        "from tensorflow.keras.utils import plot_model"
      ],
      "execution_count": 24,
      "outputs": []
    },
    {
      "cell_type": "markdown",
      "metadata": {
        "id": "CRj2qMKFSEeE"
      },
      "source": [
        "Cargamos el dataset"
      ]
    },
    {
      "cell_type": "code",
      "metadata": {
        "id": "hJbq0BtXAbhW"
      },
      "source": [
        "# load dataset\n",
        "url = 'https://raw.githubusercontent.com/jbrownlee/Datasets/master/abalone.csv'\n",
        "dataframe = read_csv(url, header=None)\n",
        "dataset = dataframe.values"
      ],
      "execution_count": 25,
      "outputs": []
    },
    {
      "cell_type": "markdown",
      "metadata": {
        "id": "Q-BSofaBSK7f"
      },
      "source": [
        "Dividimos el dataset en elementos de entrada y de salida"
      ]
    },
    {
      "cell_type": "code",
      "metadata": {
        "id": "A4uT7lK3SRDc"
      },
      "source": [
        "# split into input (X) and output (y) variables\n",
        "X, y = dataset[:, 1:-1], dataset[:, -1]\n",
        "X, y = X.astype('float'), y.astype('float')\n",
        "n_features = X.shape[1]"
      ],
      "execution_count": 26,
      "outputs": []
    },
    {
      "cell_type": "markdown",
      "metadata": {
        "id": "qAjIqqtFSWG4"
      },
      "source": [
        "Cambiamos las variables categóricas a numéricas"
      ]
    },
    {
      "cell_type": "code",
      "metadata": {
        "id": "-t9nL75jSVqA"
      },
      "source": [
        "# encode strings to integer\n",
        "y_class = LabelEncoder().fit_transform(y)\n",
        "n_class = len(unique(y_class))"
      ],
      "execution_count": 27,
      "outputs": []
    },
    {
      "cell_type": "markdown",
      "metadata": {
        "id": "gCQr0DOFSoBY"
      },
      "source": [
        "Dividimos el dataset entre el que será de entrenamiento y el que será de testeo"
      ]
    },
    {
      "cell_type": "code",
      "metadata": {
        "id": "Hy7cPpK0Syri"
      },
      "source": [
        "# split data into train and test sets\n",
        "X_train, X_test, y_train, y_test, y_train_class, y_test_class = train_test_split(X, y, y_class, test_size=0.33, random_state=1)"
      ],
      "execution_count": 28,
      "outputs": []
    },
    {
      "cell_type": "markdown",
      "metadata": {
        "id": "yDLlmWc0S6Ye"
      },
      "source": [
        "Definimos el modelo a utilizar"
      ]
    },
    {
      "cell_type": "code",
      "metadata": {
        "id": "grJlVOccS-l5"
      },
      "source": [
        "# input\n",
        "visible = Input(shape=(n_features,))\n",
        "hidden1 = Dense(20, activation='relu', kernel_initializer='he_normal')(visible)\n",
        "hidden2 = Dense(10, activation='relu', kernel_initializer='he_normal')(hidden1)"
      ],
      "execution_count": 29,
      "outputs": []
    },
    {
      "cell_type": "markdown",
      "metadata": {
        "id": "26lhHXGfTWCz"
      },
      "source": [
        "Capa de salida de regresión que tiene un solo nodo y una función de activación lineal"
      ]
    },
    {
      "cell_type": "code",
      "metadata": {
        "id": "o2W3g8B8TZKz"
      },
      "source": [
        "# regression output\n",
        "out_reg = Dense(1, activation='linear')(hidden2)"
      ],
      "execution_count": 30,
      "outputs": []
    },
    {
      "cell_type": "markdown",
      "metadata": {
        "id": "XyCYCyk2TjRv"
      },
      "source": [
        "capa de salida de clasificación que tiene un nodo para cada clase que se predice y utiliza una función de activación softmax."
      ]
    },
    {
      "cell_type": "code",
      "metadata": {
        "id": "TC62PLCJTka7"
      },
      "source": [
        "# classification output\n",
        "out_clas = Dense(n_class, activation='softmax')(hidden2)"
      ],
      "execution_count": 31,
      "outputs": []
    },
    {
      "cell_type": "markdown",
      "metadata": {
        "id": "glEUFo6zTswt"
      },
      "source": [
        "Se define una única capa de entrada y dos capas de salida"
      ]
    },
    {
      "cell_type": "code",
      "metadata": {
        "id": "Jea4fyoaT7_l"
      },
      "source": [
        "# define model\n",
        "model = Model(inputs=visible, outputs=[out_reg, out_clas])"
      ],
      "execution_count": 32,
      "outputs": []
    },
    {
      "cell_type": "code",
      "metadata": {
        "id": "PykmHiJHUAc5"
      },
      "source": [
        "# compile the keras model\n",
        "model.compile(loss=['mse','sparse_categorical_crossentropy'], optimizer='adam')"
      ],
      "execution_count": 33,
      "outputs": []
    },
    {
      "cell_type": "markdown",
      "metadata": {
        "id": "YME2sR7IUKpd"
      },
      "source": [
        "Graficamos el modelo que tenemos"
      ]
    },
    {
      "cell_type": "code",
      "metadata": {
        "colab": {
          "base_uri": "https://localhost:8080/",
          "height": 422
        },
        "id": "CU_6R6JQUD3X",
        "outputId": "0cf9e586-a813-44ac-acc8-434b9b51774b"
      },
      "source": [
        "# plot graph of model\n",
        "plot_model(model, to_file='model.png', show_shapes=True)"
      ],
      "execution_count": 34,
      "outputs": [
        {
          "output_type": "execute_result",
          "data": {
            "image/png": "[encoded data removed]",
            "text/plain": [
              "<IPython.core.display.Image object>"
            ]
          },
          "metadata": {},
          "execution_count": 34
        }
      ]
    },
    {
      "cell_type": "markdown",
      "metadata": {
        "id": "uyyCUikBUSG0"
      },
      "source": [
        "Ajustamos el modelo al dataset en untotal de 150 épocas"
      ]
    },
    {
      "cell_type": "code",
      "metadata": {
        "colab": {
          "base_uri": "https://localhost:8080/"
        },
        "id": "gOpsWPXaUXP-",
        "outputId": "81fa184f-6072-4695-8dc7-19b14d9532fd"
      },
      "source": [
        "# fit the keras model on the dataset\n",
        "model.fit(X_train, [y_train,y_train_class], epochs=150, batch_size=32, verbose=2)"
      ],
      "execution_count": 35,
      "outputs": [
        {
          "output_type": "stream",
          "name": "stdout",
          "text": [
            "Epoch 1/150\n",
            "88/88 - 1s - loss: 107.2401 - dense_11_loss: 103.9796 - dense_12_loss: 3.2605\n",
            "Epoch 2/150\n",
            "88/88 - 0s - loss: 79.1596 - dense_11_loss: 76.1710 - dense_12_loss: 2.9886\n",
            "Epoch 3/150\n",
            "88/88 - 0s - loss: 44.5070 - dense_11_loss: 41.7761 - dense_12_loss: 2.7309\n",
            "Epoch 4/150\n",
            "88/88 - 0s - loss: 15.3975 - dense_11_loss: 12.8223 - dense_12_loss: 2.5752\n",
            "Epoch 5/150\n",
            "88/88 - 0s - loss: 10.6050 - dense_11_loss: 8.0857 - dense_12_loss: 2.5194\n",
            "Epoch 6/150\n",
            "88/88 - 0s - loss: 10.3967 - dense_11_loss: 7.8894 - dense_12_loss: 2.5072\n",
            "Epoch 7/150\n",
            "88/88 - 0s - loss: 10.2270 - dense_11_loss: 7.7291 - dense_12_loss: 2.4979\n",
            "Epoch 8/150\n",
            "88/88 - 0s - loss: 10.0379 - dense_11_loss: 7.5494 - dense_12_loss: 2.4885\n",
            "Epoch 9/150\n",
            "88/88 - 0s - loss: 9.7899 - dense_11_loss: 7.3168 - dense_12_loss: 2.4731\n",
            "Epoch 10/150\n",
            "88/88 - 0s - loss: 9.5693 - dense_11_loss: 7.1265 - dense_12_loss: 2.4428\n",
            "Epoch 11/150\n",
            "88/88 - 0s - loss: 9.3636 - dense_11_loss: 6.9723 - dense_12_loss: 2.3913\n",
            "Epoch 12/150\n",
            "88/88 - 0s - loss: 9.1882 - dense_11_loss: 6.8381 - dense_12_loss: 2.3500\n",
            "Epoch 13/150\n",
            "88/88 - 0s - loss: 9.0482 - dense_11_loss: 6.7333 - dense_12_loss: 2.3149\n",
            "Epoch 14/150\n",
            "88/88 - 0s - loss: 8.9158 - dense_11_loss: 6.6254 - dense_12_loss: 2.2904\n",
            "Epoch 15/150\n",
            "88/88 - 0s - loss: 8.7934 - dense_11_loss: 6.5291 - dense_12_loss: 2.2642\n",
            "Epoch 16/150\n",
            "88/88 - 0s - loss: 8.6303 - dense_11_loss: 6.3886 - dense_12_loss: 2.2417\n",
            "Epoch 17/150\n",
            "88/88 - 0s - loss: 8.4524 - dense_11_loss: 6.2214 - dense_12_loss: 2.2310\n",
            "Epoch 18/150\n",
            "88/88 - 0s - loss: 8.2766 - dense_11_loss: 6.0581 - dense_12_loss: 2.2185\n",
            "Epoch 19/150\n",
            "88/88 - 0s - loss: 8.1053 - dense_11_loss: 5.9018 - dense_12_loss: 2.2035\n",
            "Epoch 20/150\n",
            "88/88 - 0s - loss: 7.9247 - dense_11_loss: 5.7291 - dense_12_loss: 2.1956\n",
            "Epoch 21/150\n",
            "88/88 - 0s - loss: 7.7785 - dense_11_loss: 5.5938 - dense_12_loss: 2.1847\n",
            "Epoch 22/150\n",
            "88/88 - 0s - loss: 7.6516 - dense_11_loss: 5.4799 - dense_12_loss: 2.1717\n",
            "Epoch 23/150\n",
            "88/88 - 0s - loss: 7.5259 - dense_11_loss: 5.3618 - dense_12_loss: 2.1640\n",
            "Epoch 24/150\n",
            "88/88 - 0s - loss: 7.4235 - dense_11_loss: 5.2706 - dense_12_loss: 2.1529\n",
            "Epoch 25/150\n",
            "88/88 - 0s - loss: 7.3567 - dense_11_loss: 5.2122 - dense_12_loss: 2.1445\n",
            "Epoch 26/150\n",
            "88/88 - 0s - loss: 7.2925 - dense_11_loss: 5.1601 - dense_12_loss: 2.1324\n",
            "Epoch 27/150\n",
            "88/88 - 0s - loss: 7.2421 - dense_11_loss: 5.1161 - dense_12_loss: 2.1260\n",
            "Epoch 28/150\n",
            "88/88 - 0s - loss: 7.1988 - dense_11_loss: 5.0827 - dense_12_loss: 2.1161\n",
            "Epoch 29/150\n",
            "88/88 - 0s - loss: 7.1423 - dense_11_loss: 5.0328 - dense_12_loss: 2.1095\n",
            "Epoch 30/150\n",
            "88/88 - 0s - loss: 7.1660 - dense_11_loss: 5.0623 - dense_12_loss: 2.1037\n",
            "Epoch 31/150\n",
            "88/88 - 0s - loss: 7.1027 - dense_11_loss: 5.0073 - dense_12_loss: 2.0954\n",
            "Epoch 32/150\n",
            "88/88 - 0s - loss: 7.0555 - dense_11_loss: 4.9661 - dense_12_loss: 2.0895\n",
            "Epoch 33/150\n",
            "88/88 - 0s - loss: 7.0340 - dense_11_loss: 4.9499 - dense_12_loss: 2.0840\n",
            "Epoch 34/150\n",
            "88/88 - 0s - loss: 7.0507 - dense_11_loss: 4.9689 - dense_12_loss: 2.0818\n",
            "Epoch 35/150\n",
            "88/88 - 0s - loss: 6.9676 - dense_11_loss: 4.8916 - dense_12_loss: 2.0760\n",
            "Epoch 36/150\n",
            "88/88 - 0s - loss: 6.9236 - dense_11_loss: 4.8513 - dense_12_loss: 2.0723\n",
            "Epoch 37/150\n",
            "88/88 - 0s - loss: 6.9059 - dense_11_loss: 4.8374 - dense_12_loss: 2.0685\n",
            "Epoch 38/150\n",
            "88/88 - 0s - loss: 6.8813 - dense_11_loss: 4.8177 - dense_12_loss: 2.0636\n",
            "Epoch 39/150\n",
            "88/88 - 0s - loss: 6.8670 - dense_11_loss: 4.8067 - dense_12_loss: 2.0603\n",
            "Epoch 40/150\n",
            "88/88 - 0s - loss: 6.8720 - dense_11_loss: 4.8133 - dense_12_loss: 2.0587\n",
            "Epoch 41/150\n",
            "88/88 - 0s - loss: 6.8399 - dense_11_loss: 4.7860 - dense_12_loss: 2.0539\n",
            "Epoch 42/150\n",
            "88/88 - 0s - loss: 6.8016 - dense_11_loss: 4.7515 - dense_12_loss: 2.0501\n",
            "Epoch 43/150\n",
            "88/88 - 0s - loss: 6.8124 - dense_11_loss: 4.7637 - dense_12_loss: 2.0487\n",
            "Epoch 44/150\n",
            "88/88 - 0s - loss: 6.7973 - dense_11_loss: 4.7531 - dense_12_loss: 2.0442\n",
            "Epoch 45/150\n",
            "88/88 - 0s - loss: 6.7856 - dense_11_loss: 4.7435 - dense_12_loss: 2.0421\n",
            "Epoch 46/150\n",
            "88/88 - 0s - loss: 6.7668 - dense_11_loss: 4.7277 - dense_12_loss: 2.0391\n",
            "Epoch 47/150\n",
            "88/88 - 0s - loss: 6.7575 - dense_11_loss: 4.7198 - dense_12_loss: 2.0377\n",
            "Epoch 48/150\n",
            "88/88 - 0s - loss: 6.7555 - dense_11_loss: 4.7225 - dense_12_loss: 2.0331\n",
            "Epoch 49/150\n",
            "88/88 - 0s - loss: 6.7291 - dense_11_loss: 4.6973 - dense_12_loss: 2.0318\n",
            "Epoch 50/150\n",
            "88/88 - 0s - loss: 6.7315 - dense_11_loss: 4.7008 - dense_12_loss: 2.0307\n",
            "Epoch 51/150\n",
            "88/88 - 0s - loss: 6.7811 - dense_11_loss: 4.7505 - dense_12_loss: 2.0306\n",
            "Epoch 52/150\n",
            "88/88 - 0s - loss: 6.6989 - dense_11_loss: 4.6740 - dense_12_loss: 2.0249\n",
            "Epoch 53/150\n",
            "88/88 - 0s - loss: 6.7086 - dense_11_loss: 4.6852 - dense_12_loss: 2.0234\n",
            "Epoch 54/150\n",
            "88/88 - 0s - loss: 6.7626 - dense_11_loss: 4.7389 - dense_12_loss: 2.0237\n",
            "Epoch 55/150\n",
            "88/88 - 0s - loss: 6.6938 - dense_11_loss: 4.6740 - dense_12_loss: 2.0198\n",
            "Epoch 56/150\n",
            "88/88 - 0s - loss: 6.7062 - dense_11_loss: 4.6862 - dense_12_loss: 2.0200\n",
            "Epoch 57/150\n",
            "88/88 - 0s - loss: 6.7364 - dense_11_loss: 4.7178 - dense_12_loss: 2.0186\n",
            "Epoch 58/150\n",
            "88/88 - 0s - loss: 6.6782 - dense_11_loss: 4.6643 - dense_12_loss: 2.0140\n",
            "Epoch 59/150\n",
            "88/88 - 0s - loss: 6.6754 - dense_11_loss: 4.6625 - dense_12_loss: 2.0128\n",
            "Epoch 60/150\n",
            "88/88 - 0s - loss: 6.6750 - dense_11_loss: 4.6629 - dense_12_loss: 2.0121\n",
            "Epoch 61/150\n",
            "88/88 - 0s - loss: 6.6663 - dense_11_loss: 4.6552 - dense_12_loss: 2.0111\n",
            "Epoch 62/150\n",
            "88/88 - 0s - loss: 6.6725 - dense_11_loss: 4.6623 - dense_12_loss: 2.0102\n",
            "Epoch 63/150\n",
            "88/88 - 0s - loss: 6.6502 - dense_11_loss: 4.6423 - dense_12_loss: 2.0079\n",
            "Epoch 64/150\n",
            "88/88 - 0s - loss: 6.6421 - dense_11_loss: 4.6358 - dense_12_loss: 2.0063\n",
            "Epoch 65/150\n",
            "88/88 - 0s - loss: 6.6515 - dense_11_loss: 4.6458 - dense_12_loss: 2.0056\n",
            "Epoch 66/150\n",
            "88/88 - 0s - loss: 6.6509 - dense_11_loss: 4.6456 - dense_12_loss: 2.0052\n",
            "Epoch 67/150\n",
            "88/88 - 0s - loss: 6.6230 - dense_11_loss: 4.6194 - dense_12_loss: 2.0036\n",
            "Epoch 68/150\n",
            "88/88 - 0s - loss: 6.6382 - dense_11_loss: 4.6346 - dense_12_loss: 2.0035\n",
            "Epoch 69/150\n",
            "88/88 - 0s - loss: 6.6142 - dense_11_loss: 4.6142 - dense_12_loss: 2.0000\n",
            "Epoch 70/150\n",
            "88/88 - 0s - loss: 6.6303 - dense_11_loss: 4.6303 - dense_12_loss: 2.0000\n",
            "Epoch 71/150\n",
            "88/88 - 0s - loss: 6.6282 - dense_11_loss: 4.6289 - dense_12_loss: 1.9993\n",
            "Epoch 72/150\n",
            "88/88 - 0s - loss: 6.6408 - dense_11_loss: 4.6427 - dense_12_loss: 1.9981\n",
            "Epoch 73/150\n",
            "88/88 - 0s - loss: 6.6606 - dense_11_loss: 4.6619 - dense_12_loss: 1.9987\n",
            "Epoch 74/150\n",
            "88/88 - 0s - loss: 6.5934 - dense_11_loss: 4.5972 - dense_12_loss: 1.9962\n",
            "Epoch 75/150\n",
            "88/88 - 0s - loss: 6.5987 - dense_11_loss: 4.6034 - dense_12_loss: 1.9953\n",
            "Epoch 76/150\n",
            "88/88 - 0s - loss: 6.6289 - dense_11_loss: 4.6325 - dense_12_loss: 1.9963\n",
            "Epoch 77/150\n",
            "88/88 - 0s - loss: 6.6025 - dense_11_loss: 4.6092 - dense_12_loss: 1.9933\n",
            "Epoch 78/150\n",
            "88/88 - 0s - loss: 6.5798 - dense_11_loss: 4.5867 - dense_12_loss: 1.9931\n",
            "Epoch 79/150\n",
            "88/88 - 0s - loss: 6.5799 - dense_11_loss: 4.5902 - dense_12_loss: 1.9897\n",
            "Epoch 80/150\n",
            "88/88 - 0s - loss: 6.6141 - dense_11_loss: 4.6220 - dense_12_loss: 1.9921\n",
            "Epoch 81/150\n",
            "88/88 - 0s - loss: 6.5688 - dense_11_loss: 4.5809 - dense_12_loss: 1.9879\n",
            "Epoch 82/150\n",
            "88/88 - 0s - loss: 6.6027 - dense_11_loss: 4.6136 - dense_12_loss: 1.9891\n",
            "Epoch 83/150\n",
            "88/88 - 0s - loss: 6.5782 - dense_11_loss: 4.5918 - dense_12_loss: 1.9864\n",
            "Epoch 84/150\n",
            "88/88 - 0s - loss: 6.5920 - dense_11_loss: 4.6057 - dense_12_loss: 1.9864\n",
            "Epoch 85/150\n",
            "88/88 - 0s - loss: 6.5543 - dense_11_loss: 4.5690 - dense_12_loss: 1.9853\n",
            "Epoch 86/150\n",
            "88/88 - 0s - loss: 6.5980 - dense_11_loss: 4.6124 - dense_12_loss: 1.9856\n",
            "Epoch 87/150\n",
            "88/88 - 0s - loss: 6.5745 - dense_11_loss: 4.5882 - dense_12_loss: 1.9863\n",
            "Epoch 88/150\n",
            "88/88 - 0s - loss: 6.5700 - dense_11_loss: 4.5865 - dense_12_loss: 1.9836\n",
            "Epoch 89/150\n",
            "88/88 - 0s - loss: 6.5476 - dense_11_loss: 4.5661 - dense_12_loss: 1.9814\n",
            "Epoch 90/150\n",
            "88/88 - 0s - loss: 6.5540 - dense_11_loss: 4.5716 - dense_12_loss: 1.9825\n",
            "Epoch 91/150\n",
            "88/88 - 0s - loss: 6.6118 - dense_11_loss: 4.6275 - dense_12_loss: 1.9842\n",
            "Epoch 92/150\n",
            "88/88 - 0s - loss: 6.5302 - dense_11_loss: 4.5513 - dense_12_loss: 1.9789\n",
            "Epoch 93/150\n",
            "88/88 - 0s - loss: 6.5545 - dense_11_loss: 4.5763 - dense_12_loss: 1.9781\n",
            "Epoch 94/150\n",
            "88/88 - 0s - loss: 6.5496 - dense_11_loss: 4.5714 - dense_12_loss: 1.9782\n",
            "Epoch 95/150\n",
            "88/88 - 0s - loss: 6.5944 - dense_11_loss: 4.6155 - dense_12_loss: 1.9789\n",
            "Epoch 96/150\n",
            "88/88 - 0s - loss: 6.5293 - dense_11_loss: 4.5531 - dense_12_loss: 1.9761\n",
            "Epoch 97/150\n",
            "88/88 - 0s - loss: 6.5659 - dense_11_loss: 4.5883 - dense_12_loss: 1.9776\n",
            "Epoch 98/150\n",
            "88/88 - 0s - loss: 6.5720 - dense_11_loss: 4.5931 - dense_12_loss: 1.9789\n",
            "Epoch 99/150\n",
            "88/88 - 0s - loss: 6.5307 - dense_11_loss: 4.5562 - dense_12_loss: 1.9745\n",
            "Epoch 100/150\n",
            "88/88 - 0s - loss: 6.5356 - dense_11_loss: 4.5627 - dense_12_loss: 1.9729\n",
            "Epoch 101/150\n",
            "88/88 - 0s - loss: 6.5659 - dense_11_loss: 4.5916 - dense_12_loss: 1.9743\n",
            "Epoch 102/150\n",
            "88/88 - 0s - loss: 6.5334 - dense_11_loss: 4.5613 - dense_12_loss: 1.9721\n",
            "Epoch 103/150\n",
            "88/88 - 0s - loss: 6.5458 - dense_11_loss: 4.5732 - dense_12_loss: 1.9726\n",
            "Epoch 104/150\n",
            "88/88 - 0s - loss: 6.5342 - dense_11_loss: 4.5628 - dense_12_loss: 1.9714\n",
            "Epoch 105/150\n",
            "88/88 - 0s - loss: 6.5279 - dense_11_loss: 4.5580 - dense_12_loss: 1.9699\n",
            "Epoch 106/150\n",
            "88/88 - 0s - loss: 6.5566 - dense_11_loss: 4.5833 - dense_12_loss: 1.9733\n",
            "Epoch 107/150\n",
            "88/88 - 0s - loss: 6.5530 - dense_11_loss: 4.5827 - dense_12_loss: 1.9703\n",
            "Epoch 108/150\n",
            "88/88 - 0s - loss: 6.5233 - dense_11_loss: 4.5556 - dense_12_loss: 1.9676\n",
            "Epoch 109/150\n",
            "88/88 - 0s - loss: 6.4994 - dense_11_loss: 4.5338 - dense_12_loss: 1.9656\n",
            "Epoch 110/150\n",
            "88/88 - 0s - loss: 6.5144 - dense_11_loss: 4.5463 - dense_12_loss: 1.9681\n",
            "Epoch 111/150\n",
            "88/88 - 0s - loss: 6.5449 - dense_11_loss: 4.5769 - dense_12_loss: 1.9679\n",
            "Epoch 112/150\n",
            "88/88 - 0s - loss: 6.5000 - dense_11_loss: 4.5351 - dense_12_loss: 1.9649\n",
            "Epoch 113/150\n",
            "88/88 - 0s - loss: 6.5228 - dense_11_loss: 4.5560 - dense_12_loss: 1.9668\n",
            "Epoch 114/150\n",
            "88/88 - 0s - loss: 6.5325 - dense_11_loss: 4.5663 - dense_12_loss: 1.9662\n",
            "Epoch 115/150\n",
            "88/88 - 0s - loss: 6.5107 - dense_11_loss: 4.5457 - dense_12_loss: 1.9649\n",
            "Epoch 116/150\n",
            "88/88 - 0s - loss: 6.5003 - dense_11_loss: 4.5359 - dense_12_loss: 1.9644\n",
            "Epoch 117/150\n",
            "88/88 - 0s - loss: 6.4857 - dense_11_loss: 4.5233 - dense_12_loss: 1.9624\n",
            "Epoch 118/150\n",
            "88/88 - 0s - loss: 6.5317 - dense_11_loss: 4.5660 - dense_12_loss: 1.9657\n",
            "Epoch 119/150\n",
            "88/88 - 0s - loss: 6.5256 - dense_11_loss: 4.5604 - dense_12_loss: 1.9652\n",
            "Epoch 120/150\n",
            "88/88 - 0s - loss: 6.4807 - dense_11_loss: 4.5188 - dense_12_loss: 1.9619\n",
            "Epoch 121/150\n",
            "88/88 - 0s - loss: 6.4788 - dense_11_loss: 4.5172 - dense_12_loss: 1.9616\n",
            "Epoch 122/150\n",
            "88/88 - 0s - loss: 6.4773 - dense_11_loss: 4.5168 - dense_12_loss: 1.9605\n",
            "Epoch 123/150\n",
            "88/88 - 0s - loss: 6.4997 - dense_11_loss: 4.5375 - dense_12_loss: 1.9622\n",
            "Epoch 124/150\n",
            "88/88 - 0s - loss: 6.5001 - dense_11_loss: 4.5388 - dense_12_loss: 1.9613\n",
            "Epoch 125/150\n",
            "88/88 - 0s - loss: 6.4737 - dense_11_loss: 4.5137 - dense_12_loss: 1.9600\n",
            "Epoch 126/150\n",
            "88/88 - 0s - loss: 6.5039 - dense_11_loss: 4.5425 - dense_12_loss: 1.9614\n",
            "Epoch 127/150\n",
            "88/88 - 0s - loss: 6.4843 - dense_11_loss: 4.5255 - dense_12_loss: 1.9588\n",
            "Epoch 128/150\n",
            "88/88 - 0s - loss: 6.4644 - dense_11_loss: 4.5073 - dense_12_loss: 1.9571\n",
            "Epoch 129/150\n",
            "88/88 - 0s - loss: 6.4895 - dense_11_loss: 4.5298 - dense_12_loss: 1.9597\n",
            "Epoch 130/150\n",
            "88/88 - 0s - loss: 6.4948 - dense_11_loss: 4.5357 - dense_12_loss: 1.9591\n",
            "Epoch 131/150\n",
            "88/88 - 0s - loss: 6.4844 - dense_11_loss: 4.5261 - dense_12_loss: 1.9583\n",
            "Epoch 132/150\n",
            "88/88 - 0s - loss: 6.4725 - dense_11_loss: 4.5145 - dense_12_loss: 1.9580\n",
            "Epoch 133/150\n",
            "88/88 - 0s - loss: 6.4593 - dense_11_loss: 4.5003 - dense_12_loss: 1.9591\n",
            "Epoch 134/150\n",
            "88/88 - 0s - loss: 6.4861 - dense_11_loss: 4.5279 - dense_12_loss: 1.9582\n",
            "Epoch 135/150\n",
            "88/88 - 0s - loss: 6.4545 - dense_11_loss: 4.4987 - dense_12_loss: 1.9557\n",
            "Epoch 136/150\n",
            "88/88 - 0s - loss: 6.4585 - dense_11_loss: 4.5035 - dense_12_loss: 1.9550\n",
            "Epoch 137/150\n",
            "88/88 - 0s - loss: 6.4621 - dense_11_loss: 4.5076 - dense_12_loss: 1.9546\n",
            "Epoch 138/150\n",
            "88/88 - 0s - loss: 6.4601 - dense_11_loss: 4.5046 - dense_12_loss: 1.9555\n",
            "Epoch 139/150\n",
            "88/88 - 0s - loss: 6.4590 - dense_11_loss: 4.5026 - dense_12_loss: 1.9564\n",
            "Epoch 140/150\n",
            "88/88 - 0s - loss: 6.4628 - dense_11_loss: 4.5067 - dense_12_loss: 1.9561\n",
            "Epoch 141/150\n",
            "88/88 - 0s - loss: 6.4646 - dense_11_loss: 4.5093 - dense_12_loss: 1.9553\n",
            "Epoch 142/150\n",
            "88/88 - 0s - loss: 6.4623 - dense_11_loss: 4.5079 - dense_12_loss: 1.9544\n",
            "Epoch 143/150\n",
            "88/88 - 0s - loss: 6.4669 - dense_11_loss: 4.5110 - dense_12_loss: 1.9559\n",
            "Epoch 144/150\n",
            "88/88 - 0s - loss: 6.4746 - dense_11_loss: 4.5193 - dense_12_loss: 1.9553\n",
            "Epoch 145/150\n",
            "88/88 - 0s - loss: 6.4806 - dense_11_loss: 4.5251 - dense_12_loss: 1.9555\n",
            "Epoch 146/150\n",
            "88/88 - 0s - loss: 6.4732 - dense_11_loss: 4.5179 - dense_12_loss: 1.9552\n",
            "Epoch 147/150\n",
            "88/88 - 0s - loss: 6.4437 - dense_11_loss: 4.4895 - dense_12_loss: 1.9541\n",
            "Epoch 148/150\n",
            "88/88 - 0s - loss: 6.4328 - dense_11_loss: 4.4820 - dense_12_loss: 1.9508\n",
            "Epoch 149/150\n",
            "88/88 - 0s - loss: 6.4514 - dense_11_loss: 4.4983 - dense_12_loss: 1.9531\n",
            "Epoch 150/150\n",
            "88/88 - 0s - loss: 6.4673 - dense_11_loss: 4.5130 - dense_12_loss: 1.9543\n"
          ]
        },
        {
          "output_type": "execute_result",
          "data": {
            "text/plain": [
              "<keras.callbacks.History at 0x7fa5098a92d0>"
            ]
          },
          "metadata": {},
          "execution_count": 35
        }
      ]
    },
    {
      "cell_type": "markdown",
      "metadata": {
        "id": "dzsq80iCUeXM"
      },
      "source": [
        "Ahora se realizan algunas predicciones"
      ]
    },
    {
      "cell_type": "code",
      "metadata": {
        "id": "psTEBSiJUhsE"
      },
      "source": [
        "# make predictions on test set\n",
        "yhat1, yhat2 = model.predict(X_test)"
      ],
      "execution_count": 36,
      "outputs": []
    },
    {
      "cell_type": "markdown",
      "metadata": {
        "id": "63xYA8QzUlSZ"
      },
      "source": [
        "Ahora se calcula el error para el modelo de regresión"
      ]
    },
    {
      "cell_type": "code",
      "metadata": {
        "colab": {
          "base_uri": "https://localhost:8080/"
        },
        "id": "68w14icCUucA",
        "outputId": "644d835b-38e0-407c-d2dc-2c453955e63d"
      },
      "source": [
        "# calculate error for regression model\n",
        "error = mean_absolute_error(y_test, yhat1)\n",
        "print('MAE: %.3f' % error)"
      ],
      "execution_count": 38,
      "outputs": [
        {
          "output_type": "stream",
          "name": "stdout",
          "text": [
            "MAE: 1.505\n"
          ]
        }
      ]
    },
    {
      "cell_type": "markdown",
      "metadata": {
        "id": "F_P0s3-CUw43"
      },
      "source": [
        "Finalmente se evalúa la predicción del modelo"
      ]
    },
    {
      "cell_type": "code",
      "metadata": {
        "colab": {
          "base_uri": "https://localhost:8080/"
        },
        "id": "Ibe3XfMnU_2_",
        "outputId": "f0e619e7-21b7-4f3b-bd31-19eb32fa2a6f"
      },
      "source": [
        "# evaluate accuracy for classification model\n",
        "yhat2 = argmax(yhat2, axis=-1).astype('int')\n",
        "acc = accuracy_score(y_test_class, yhat2)\n",
        "print('Accuracy: %.3f' % acc)"
      ],
      "execution_count": 39,
      "outputs": [
        {
          "output_type": "stream",
          "name": "stdout",
          "text": [
            "Accuracy: 0.273\n"
          ]
        }
      ]
    },
    {
      "cell_type": "markdown",
      "metadata": {
        "id": "6ee09bglIe2v"
      },
      "source": [
        "## **Qué no me queda claro**\n",
        "\n",
        "En cuanto al modelo que combina tanto la Regresión como la Clasificación en cunjunto, no me queda claro exactamente como es que este los combina, no sé si es que se ejecutan a la vez o de forma secuencial pero intercalados."
      ]
    },
    {
      "cell_type": "markdown",
      "metadata": {
        "id": "IXHGYNcyVyOo"
      },
      "source": [
        "## **Breve Reporte**\n",
        "\n",
        "#### **Resumen del tema tratado:** \n",
        "\n",
        "Existen formas para poder evaluar modelos cuyos valores de salida pueden combinar tanto clasificación como regresión, para esto es importante aplicar los conosimientos de las funciones de activación para las capas tanto internas como de salida y luego evaluar estos modelos.\n",
        "\n",
        "#### **Comentarios sobre algo aprendido:**\n",
        "\n",
        "Cuando se requiere tanto variables categóricas como numéricas para aplicar a la vez clasificación y regresión, es posible que las predicciones diverjan y es por esto que un modelo que combine ambas en lugar de efectuarlas por separado será una mejor opción en estos casos.\n",
        "\n",
        "#### **Dudas sobre el tema tratado:**\n",
        "\n",
        "Dado que no me quedó claro en el segundo ejemplo como es que este trabajaba con los modelos de regresión y de clasificación si ambos a la vez o de forma secuencíal, creo que lo mejor es buscar más ejemplos y así teniendo distintas perspectivas poder tener una mejor comprensión de este tema.\n"
      ]
    }
  ]
}