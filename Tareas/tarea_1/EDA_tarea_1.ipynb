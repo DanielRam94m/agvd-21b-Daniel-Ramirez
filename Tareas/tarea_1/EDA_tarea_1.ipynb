{
  "nbformat": 4,
  "nbformat_minor": 0,
  "metadata": {
    "colab": {
      "name": "EDA_tarea_1.ipynb",
      "provenance": []
    },
    "kernelspec": {
      "name": "python3",
      "display_name": "Python 3"
    },
    "language_info": {
      "name": "python"
    }
  },
  "cells": [
    {
      "cell_type": "markdown",
      "metadata": {
        "id": "1Q0JR4ErsJxo"
      },
      "source": [
        "# Reporte Tarea 1\n",
        "## CI-0163   Análisis de Grandes Volúmenes de Datos\n",
        "## Daniel Ricardo Ramírez Umaña, B45675"
      ]
    },
    {
      "cell_type": "markdown",
      "metadata": {
        "id": "i3X95CPGsqZr"
      },
      "source": [
        "Imortamos las librerías necesarias"
      ]
    },
    {
      "cell_type": "code",
      "metadata": {
        "id": "98uE8ah2swYv"
      },
      "source": [
        "#Herramienta de análisis y manipulación de datos de código abierto\n",
        "import pandas as pd\n",
        "\n",
        "#Herramientas para graficaciones y para operaciones matemáticas\n",
        "import matplotlib.pyplot as plt\n",
        "import numpy as np"
      ],
      "execution_count": 19,
      "outputs": []
    },
    {
      "cell_type": "markdown",
      "metadata": {
        "id": "N6-hWdl4sfHN"
      },
      "source": [
        "Lo primero por realizar es cargar el data set"
      ]
    },
    {
      "cell_type": "code",
      "metadata": {
        "id": "1rakOxp0T80h"
      },
      "source": [
        "original_ds = pd.read_csv(\"original_campus_france_rouen_2019_dataset.csv\")\n",
        "refinado_ds = pd.read_csv(\"refinado_campus_france_rouen_2019_dataset.csv\")"
      ],
      "execution_count": 11,
      "outputs": []
    },
    {
      "cell_type": "markdown",
      "metadata": {
        "id": "S74fhxzU1utV"
      },
      "source": [
        "Veamos el contenido en el dataset"
      ]
    },
    {
      "cell_type": "code",
      "metadata": {
        "colab": {
          "base_uri": "https://localhost:8080/",
          "height": 711
        },
        "id": "lO2Bwm-k1yZk",
        "outputId": "7ebc1e98-b718-42ea-8855-804aff289049"
      },
      "source": [
        "original_ds.head()"
      ],
      "execution_count": 12,
      "outputs": [
        {
          "output_type": "execute_result",
          "data": {
            "text/html": [
              "<div>\n",
              "<style scoped>\n",
              "    .dataframe tbody tr th:only-of-type {\n",
              "        vertical-align: middle;\n",
              "    }\n",
              "\n",
              "    .dataframe tbody tr th {\n",
              "        vertical-align: top;\n",
              "    }\n",
              "\n",
              "    .dataframe thead th {\n",
              "        text-align: right;\n",
              "    }\n",
              "</style>\n",
              "<table border=\"1\" class=\"dataframe\">\n",
              "  <thead>\n",
              "    <tr style=\"text-align: right;\">\n",
              "      <th></th>\n",
              "      <th>Numéro de la candidature</th>\n",
              "      <th>Espace CampusFrance</th>\n",
              "      <th>Nom de l'étudiant</th>\n",
              "      <th>Prénom de l'étudiant</th>\n",
              "      <th>Etat de la candidature</th>\n",
              "      <th>Date limite de traitement</th>\n",
              "      <th>Entretien ECF</th>\n",
              "      <th>Dossier de l'étudiant</th>\n",
              "      <th>Adresse mail</th>\n",
              "      <th>Date de naissance</th>\n",
              "      <th>Sexe</th>\n",
              "      <th>Téléphone fixe</th>\n",
              "      <th>Téléphone portable</th>\n",
              "      <th>Pays de nationalité</th>\n",
              "      <th>Pays de naissance</th>\n",
              "      <th>Ville de naissance</th>\n",
              "      <th>Adresse de résidence</th>\n",
              "      <th>Ville de résidence</th>\n",
              "      <th>Pays de résidence</th>\n",
              "      <th>Statut particulier bac</th>\n",
              "      <th>Statut particulier bourse</th>\n",
              "      <th>Statut particulier autre</th>\n",
              "      <th>Libellé formation de la candidature</th>\n",
              "      <th>Etablissement de la candidature</th>\n",
              "      <th>Composante de la candidature</th>\n",
              "      <th>Site de la candidature</th>\n",
              "      <th>Année d'entrée de la candidature</th>\n",
              "      <th>Priorité</th>\n",
              "      <th>Avis SCAC</th>\n",
              "      <th>Appréciation SCAC</th>\n",
              "      <th>Année scolaire du dernier diplôme obtenu</th>\n",
              "      <th>Type du dernier diplôme obtenu</th>\n",
              "      <th>Niveau du dernier diplôme obtenu</th>\n",
              "      <th>Etablissement du dernier diplôme obtenu</th>\n",
              "      <th>Ville du dernier diplôme obtenu</th>\n",
              "      <th>Région du dernier diplôme obtenu</th>\n",
              "      <th>Pays du dernier diplôme obtenu</th>\n",
              "      <th>Moyenne du dernier diplôme obtenu</th>\n",
              "      <th>Mention du dernier diplôme obtenu</th>\n",
              "      <th>Appréciation SCAC sur cursus</th>\n",
              "      <th>Dernier test de français obtenu</th>\n",
              "      <th>Niveau global du dernier test obtenu</th>\n",
              "      <th>Score global du dernier test obtenu</th>\n",
              "      <th>Date d'obtention du dernier test obtenu</th>\n",
              "      <th>Date d'expiration du dernier test obtenu</th>\n",
              "      <th>Numéro d'attestation du dernier test obtenu</th>\n",
              "      <th>Dispensé de certification en français par l'espace CF</th>\n",
              "      <th>A passé une partie de sa scolarité en français</th>\n",
              "      <th>A étudié le français</th>\n",
              "      <th>Etablissement</th>\n",
              "      <th>Ville</th>\n",
              "      <th>Région</th>\n",
              "      <th>Pays</th>\n",
              "      <th>Volume d'heures</th>\n",
              "      <th>Durée d'étude</th>\n",
              "      <th>Niveau obtenu</th>\n",
              "      <th>Capacité à se faire comprendre</th>\n",
              "      <th>Capacité à comprendre</th>\n",
              "      <th>Exonération</th>\n",
              "    </tr>\n",
              "  </thead>\n",
              "  <tbody>\n",
              "    <tr>\n",
              "      <th>0</th>\n",
              "      <td>DZ17-18556-C02-68</td>\n",
              "      <td>Espace Campus France Algérie</td>\n",
              "      <td>Anonymous</td>\n",
              "      <td>Anonymous</td>\n",
              "      <td>Refusé</td>\n",
              "      <td>NaN</td>\n",
              "      <td>Effectué le 26/03/2019</td>\n",
              "      <td>Validé par l'agent ECF depuis le 26/03/2019 \\n...</td>\n",
              "      <td>anonymous@email.xxx</td>\n",
              "      <td>19/07/1994</td>\n",
              "      <td>Masculin</td>\n",
              "      <td>tel : +000 00 00 00 00</td>\n",
              "      <td>tel : +000 00 00 00 00</td>\n",
              "      <td>Algérie</td>\n",
              "      <td>Algérie</td>\n",
              "      <td>Taher-Jijel</td>\n",
              "      <td>anonymous address</td>\n",
              "      <td>Chekfa</td>\n",
              "      <td>Algérie</td>\n",
              "      <td>NaN</td>\n",
              "      <td>NaN</td>\n",
              "      <td>NaN</td>\n",
              "      <td>licence Sciences, technologies, santé mention ...</td>\n",
              "      <td>Université de Rouen</td>\n",
              "      <td>Candidatures UFR Sciences Madrillet et ESITECH</td>\n",
              "      <td>Site de Saint-Etienne-du-Rouvray</td>\n",
              "      <td>3</td>\n",
              "      <td>NaN</td>\n",
              "      <td>Défavorable</td>\n",
              "      <td>Inadéquat</td>\n",
              "      <td>2017.0</td>\n",
              "      <td>Diplôme de Licence (système LMD) - Licence  Sy...</td>\n",
              "      <td>Bac +3</td>\n",
              "      <td>Université Abdelhak Benhamouda de Jijel</td>\n",
              "      <td>Jije</td>\n",
              "      <td>Jijel</td>\n",
              "      <td>Algérie</td>\n",
              "      <td>10.24</td>\n",
              "      <td>Passable</td>\n",
              "      <td>Marge de progrès</td>\n",
              "      <td>TCF SO + TCF option orale et option écrite</td>\n",
              "      <td>B1</td>\n",
              "      <td>374.0</td>\n",
              "      <td>14/10/2018</td>\n",
              "      <td>13/10/2020</td>\n",
              "      <td>1328482</td>\n",
              "      <td>NaN</td>\n",
              "      <td>Oui</td>\n",
              "      <td>Non</td>\n",
              "      <td>NaN</td>\n",
              "      <td>Chekfa</td>\n",
              "      <td>Jijel</td>\n",
              "      <td>Algérie</td>\n",
              "      <td>Plus de 1000 heures</td>\n",
              "      <td>4 ans et plus</td>\n",
              "      <td>Intermédiaire</td>\n",
              "      <td>Minimale</td>\n",
              "      <td>Correcte</td>\n",
              "      <td>NaN</td>\n",
              "    </tr>\n",
              "    <tr>\n",
              "      <th>1</th>\n",
              "      <td>MA18-23197-C02-86</td>\n",
              "      <td>Espace Campus France Maroc</td>\n",
              "      <td>Anonymous</td>\n",
              "      <td>Anonymous</td>\n",
              "      <td>Refusé</td>\n",
              "      <td>NaN</td>\n",
              "      <td>Effectué le 08/04/2019</td>\n",
              "      <td>Validé par l'agent ECF depuis le 08/04/2019 \\n...</td>\n",
              "      <td>anonymous@email.xxx</td>\n",
              "      <td>20/09/1999</td>\n",
              "      <td>Masculin</td>\n",
              "      <td>tel : +000 00 00 00 00</td>\n",
              "      <td>tel : +000 00 00 00 00</td>\n",
              "      <td>Maroc</td>\n",
              "      <td>Maroc</td>\n",
              "      <td>Oujda</td>\n",
              "      <td>anonymous address</td>\n",
              "      <td>Berrechid</td>\n",
              "      <td>Maroc</td>\n",
              "      <td>NaN</td>\n",
              "      <td>NaN</td>\n",
              "      <td>NaN</td>\n",
              "      <td>licence Sciences, technologies, santé mention ...</td>\n",
              "      <td>Université de Rouen</td>\n",
              "      <td>Candidatures UFR Sciences Madrillet et ESITECH</td>\n",
              "      <td>Site de Saint-Etienne-du-Rouvray</td>\n",
              "      <td>3</td>\n",
              "      <td>NaN</td>\n",
              "      <td>Favorable</td>\n",
              "      <td>Solide</td>\n",
              "      <td>2019.0</td>\n",
              "      <td>D.U.T - Diplôme Universitaire de Technologie</td>\n",
              "      <td>Bac +2</td>\n",
              "      <td>École National des Sciences Appliquées</td>\n",
              "      <td>Berrechid</td>\n",
              "      <td>Région de Casablanca</td>\n",
              "      <td>Maroc</td>\n",
              "      <td>NaN</td>\n",
              "      <td>NaN</td>\n",
              "      <td>Très bons</td>\n",
              "      <td>TCF-DAP</td>\n",
              "      <td>B2</td>\n",
              "      <td>411.0</td>\n",
              "      <td>15/12/2018</td>\n",
              "      <td>20/09/2020</td>\n",
              "      <td>212002001812151304628</td>\n",
              "      <td>NaN</td>\n",
              "      <td>Oui</td>\n",
              "      <td>Oui</td>\n",
              "      <td>NaN</td>\n",
              "      <td>NaN</td>\n",
              "      <td>Région de Casablanca</td>\n",
              "      <td>Maroc</td>\n",
              "      <td>Plus de 1000 heures</td>\n",
              "      <td>4 ans et plus</td>\n",
              "      <td>Avancé</td>\n",
              "      <td>Satisfaisante</td>\n",
              "      <td>Très satisfaisante</td>\n",
              "      <td>NaN</td>\n",
              "    </tr>\n",
              "    <tr>\n",
              "      <th>2</th>\n",
              "      <td>DZ17-38169-C02-91</td>\n",
              "      <td>Espace Campus France Algérie</td>\n",
              "      <td>Anonymous</td>\n",
              "      <td>Anonymous</td>\n",
              "      <td>Refusé</td>\n",
              "      <td>NaN</td>\n",
              "      <td>Effectué le 05/03/2019</td>\n",
              "      <td>Validé par l'agent ECF depuis le 05/03/2019 \\n...</td>\n",
              "      <td>anonymous@email.xxx</td>\n",
              "      <td>21/08/1998</td>\n",
              "      <td>Masculin</td>\n",
              "      <td>tel : +000 00 00 00 00</td>\n",
              "      <td>tel : +000 00 00 00 00</td>\n",
              "      <td>Algérie</td>\n",
              "      <td>Algérie</td>\n",
              "      <td>Akbou</td>\n",
              "      <td>anonymous address</td>\n",
              "      <td>Akbou</td>\n",
              "      <td>Algérie</td>\n",
              "      <td>NaN</td>\n",
              "      <td>NaN</td>\n",
              "      <td>NaN</td>\n",
              "      <td>Master indifférencié (recherche et professionn...</td>\n",
              "      <td>Université de Rouen</td>\n",
              "      <td>Candidatures UFR Sciences Madrillet et ESITECH</td>\n",
              "      <td>Site de Saint-Etienne-du-Rouvray</td>\n",
              "      <td>1</td>\n",
              "      <td>NaN</td>\n",
              "      <td>Favorable</td>\n",
              "      <td>Solide</td>\n",
              "      <td>2018.0</td>\n",
              "      <td>Diplôme de Licence (système LMD) - Licence en ...</td>\n",
              "      <td>Bac +3</td>\n",
              "      <td>Université Saad Dahlab - Blida 1</td>\n",
              "      <td>Blida</td>\n",
              "      <td>Blida</td>\n",
              "      <td>Algérie</td>\n",
              "      <td>14.03</td>\n",
              "      <td>NaN</td>\n",
              "      <td>Très bons</td>\n",
              "      <td>TCF SO + TCF option orale et option écrite</td>\n",
              "      <td>C2</td>\n",
              "      <td>634.0</td>\n",
              "      <td>02/12/2018</td>\n",
              "      <td>01/12/2020</td>\n",
              "      <td>213002011812021313173</td>\n",
              "      <td>Oui</td>\n",
              "      <td>NaN</td>\n",
              "      <td>NaN</td>\n",
              "      <td>NaN</td>\n",
              "      <td>NaN</td>\n",
              "      <td>NaN</td>\n",
              "      <td>NaN</td>\n",
              "      <td>NaN</td>\n",
              "      <td>NaN</td>\n",
              "      <td>NaN</td>\n",
              "      <td>Très satisfaisante</td>\n",
              "      <td>Très satisfaisante</td>\n",
              "      <td>NaN</td>\n",
              "    </tr>\n",
              "    <tr>\n",
              "      <th>3</th>\n",
              "      <td>TG17-04827-C02-69</td>\n",
              "      <td>Espace Campus France Togo</td>\n",
              "      <td>Anonymous</td>\n",
              "      <td>Anonymous</td>\n",
              "      <td>Refusé</td>\n",
              "      <td>NaN</td>\n",
              "      <td>Effectué le 26/03/2019</td>\n",
              "      <td>Validé par l'agent ECF depuis le 26/03/2019 \\n...</td>\n",
              "      <td>anonymous@email.xxx</td>\n",
              "      <td>26/10/1992</td>\n",
              "      <td>Masculin</td>\n",
              "      <td>tel : +000 00 00 00 00</td>\n",
              "      <td>tel : +000 00 00 00 00</td>\n",
              "      <td>Togo</td>\n",
              "      <td>Togo</td>\n",
              "      <td>Sokodé</td>\n",
              "      <td>anonymous address</td>\n",
              "      <td>Lomé</td>\n",
              "      <td>Togo</td>\n",
              "      <td>NaN</td>\n",
              "      <td>NaN</td>\n",
              "      <td>NaN</td>\n",
              "      <td>Licence Sciences, technologie, santé mention  ...</td>\n",
              "      <td>Université de Rouen</td>\n",
              "      <td>Candidatures UFR Sciences Madrillet et ESITECH</td>\n",
              "      <td>Site de Saint-Etienne-du-Rouvray</td>\n",
              "      <td>3</td>\n",
              "      <td>NaN</td>\n",
              "      <td>Favorable</td>\n",
              "      <td>Cohérent</td>\n",
              "      <td>2016.0</td>\n",
              "      <td>Bac + 3 - Diplôme d'Ingénieur des Travaux Info...</td>\n",
              "      <td>Bac +3</td>\n",
              "      <td>IAI (Institut Africain D'Informatique)</td>\n",
              "      <td>Lomé</td>\n",
              "      <td>Maritime</td>\n",
              "      <td>Togo</td>\n",
              "      <td>13,13</td>\n",
              "      <td>Passable</td>\n",
              "      <td>Corrects</td>\n",
              "      <td>NaN</td>\n",
              "      <td>NaN</td>\n",
              "      <td>NaN</td>\n",
              "      <td>NaN</td>\n",
              "      <td>NaN</td>\n",
              "      <td>NaN</td>\n",
              "      <td>NaN</td>\n",
              "      <td>Oui</td>\n",
              "      <td>Oui</td>\n",
              "      <td>NaN</td>\n",
              "      <td>Sokodé</td>\n",
              "      <td>Centrale</td>\n",
              "      <td>Togo</td>\n",
              "      <td>Moins de 100 heures</td>\n",
              "      <td>4 ans et plus</td>\n",
              "      <td>Avancé</td>\n",
              "      <td>Correcte</td>\n",
              "      <td>Correcte</td>\n",
              "      <td>NaN</td>\n",
              "    </tr>\n",
              "    <tr>\n",
              "      <th>4</th>\n",
              "      <td>MA19-00983-C01-90</td>\n",
              "      <td>Espace Campus France Maroc</td>\n",
              "      <td>Anonymous</td>\n",
              "      <td>Anonymous</td>\n",
              "      <td>Refusé</td>\n",
              "      <td>NaN</td>\n",
              "      <td>Effectué le 19/04/2019</td>\n",
              "      <td>Validé par l'agent ECF depuis le 19/04/2019 \\n...</td>\n",
              "      <td>anonymous@email.xxx</td>\n",
              "      <td>10/11/1993</td>\n",
              "      <td>Masculin</td>\n",
              "      <td>tel : +000 00 00 00 00</td>\n",
              "      <td>tel : +000 00 00 00 00</td>\n",
              "      <td>Maroc</td>\n",
              "      <td>Maroc</td>\n",
              "      <td>Casablanca</td>\n",
              "      <td>anonymous address</td>\n",
              "      <td>Casablanca</td>\n",
              "      <td>Maroc</td>\n",
              "      <td>NaN</td>\n",
              "      <td>NaN</td>\n",
              "      <td>NaN</td>\n",
              "      <td>Master indifférencié (recherche et professionn...</td>\n",
              "      <td>Université de Rouen</td>\n",
              "      <td>Candidatures UFR Sciences Madrillet et ESITECH</td>\n",
              "      <td>Site de Saint-Etienne-du-Rouvray</td>\n",
              "      <td>1</td>\n",
              "      <td>NaN</td>\n",
              "      <td>Favorable</td>\n",
              "      <td>Cohérent</td>\n",
              "      <td>2016.0</td>\n",
              "      <td>Master 2 - Master 2 spécialisé en actuariat et...</td>\n",
              "      <td>Bac +5</td>\n",
              "      <td>FACULTE DES SCIENCES JURIDIQUES ECONOMIQUES ET...</td>\n",
              "      <td>Casablanca</td>\n",
              "      <td>Région de Casablanca</td>\n",
              "      <td>Maroc</td>\n",
              "      <td>12,00</td>\n",
              "      <td>NaN</td>\n",
              "      <td>Bons</td>\n",
              "      <td>DELF / DALF après septembre 2005</td>\n",
              "      <td>B2</td>\n",
              "      <td>62.0</td>\n",
              "      <td>10/03/2019</td>\n",
              "      <td>NaN</td>\n",
              "      <td>NaN</td>\n",
              "      <td>NaN</td>\n",
              "      <td>Oui</td>\n",
              "      <td>Oui</td>\n",
              "      <td>FACULTE DES SCIENCES JURIDIQUES ECONOMIQUES ET...</td>\n",
              "      <td>Casablanca</td>\n",
              "      <td>Région de Casablanca</td>\n",
              "      <td>Maroc</td>\n",
              "      <td>Plus de 1000 heures</td>\n",
              "      <td>4 ans et plus</td>\n",
              "      <td>Avancé</td>\n",
              "      <td>Très satisfaisante</td>\n",
              "      <td>Très satisfaisante</td>\n",
              "      <td>NaN</td>\n",
              "    </tr>\n",
              "  </tbody>\n",
              "</table>\n",
              "</div>"
            ],
            "text/plain": [
              "  Numéro de la candidature  ... Exonération\n",
              "0        DZ17-18556-C02-68  ...         NaN\n",
              "1        MA18-23197-C02-86  ...         NaN\n",
              "2        DZ17-38169-C02-91  ...         NaN\n",
              "3        TG17-04827-C02-69  ...         NaN\n",
              "4        MA19-00983-C01-90  ...         NaN\n",
              "\n",
              "[5 rows x 59 columns]"
            ]
          },
          "metadata": {},
          "execution_count": 12
        }
      ]
    },
    {
      "cell_type": "code",
      "metadata": {
        "colab": {
          "base_uri": "https://localhost:8080/",
          "height": 392
        },
        "id": "paJTZrBFyUCA",
        "outputId": "9777f3f6-dc7a-48e6-fc62-d0e7a3090212"
      },
      "source": [
        "refinado_ds.head(2)"
      ],
      "execution_count": 17,
      "outputs": [
        {
          "output_type": "execute_result",
          "data": {
            "text/html": [
              "<div>\n",
              "<style scoped>\n",
              "    .dataframe tbody tr th:only-of-type {\n",
              "        vertical-align: middle;\n",
              "    }\n",
              "\n",
              "    .dataframe tbody tr th {\n",
              "        vertical-align: top;\n",
              "    }\n",
              "\n",
              "    .dataframe thead th {\n",
              "        text-align: right;\n",
              "    }\n",
              "</style>\n",
              "<table border=\"1\" class=\"dataframe\">\n",
              "  <thead>\n",
              "    <tr style=\"text-align: right;\">\n",
              "      <th></th>\n",
              "      <th>Numéro de la candidature</th>\n",
              "      <th>Espace CampusFrance</th>\n",
              "      <th>Etat de la candidature</th>\n",
              "      <th>Entretien ECF</th>\n",
              "      <th>Dossier de l'étudiant</th>\n",
              "      <th>Date de naissance</th>\n",
              "      <th>Sexe</th>\n",
              "      <th>Pays de nationalité</th>\n",
              "      <th>Pays de naissance</th>\n",
              "      <th>Ville de naissance</th>\n",
              "      <th>Ville de résidence</th>\n",
              "      <th>Pays de résidence</th>\n",
              "      <th>Libellé formation de la candidature</th>\n",
              "      <th>Année d'entrée de la candidature</th>\n",
              "      <th>Priorité</th>\n",
              "      <th>Avis SCAC</th>\n",
              "      <th>Appréciation SCAC</th>\n",
              "      <th>Année scolaire du dernier diplôme obtenu</th>\n",
              "      <th>Type du dernier diplôme obtenu</th>\n",
              "      <th>Niveau du dernier diplôme obtenu</th>\n",
              "      <th>Etablissement du dernier diplôme obtenu</th>\n",
              "      <th>Ville du dernier diplôme obtenu</th>\n",
              "      <th>Région du dernier diplôme obtenu</th>\n",
              "      <th>Pays du dernier diplôme obtenu</th>\n",
              "      <th>Moyenne du dernier diplôme obtenu</th>\n",
              "      <th>Mention du dernier diplôme obtenu</th>\n",
              "      <th>Appréciation SCAC sur cursus</th>\n",
              "      <th>Dernier test de français obtenu</th>\n",
              "      <th>Niveau global du dernier test obtenu</th>\n",
              "      <th>Score global du dernier test obtenu</th>\n",
              "      <th>Date d'obtention du dernier test obtenu</th>\n",
              "      <th>Date d'expiration du dernier test obtenu</th>\n",
              "      <th>Numéro d'attestation du dernier test obtenu</th>\n",
              "      <th>Dispensé de certification en français par l'espace CF</th>\n",
              "      <th>A passé une partie de sa scolarité en français</th>\n",
              "      <th>A étudié le français</th>\n",
              "      <th>Etablissement</th>\n",
              "      <th>Ville</th>\n",
              "      <th>Région</th>\n",
              "      <th>Pays</th>\n",
              "      <th>Volume d'heures</th>\n",
              "      <th>Durée d'étude</th>\n",
              "      <th>Niveau obtenu</th>\n",
              "      <th>Capacité à se faire comprendre</th>\n",
              "      <th>Capacité à comprendre</th>\n",
              "    </tr>\n",
              "  </thead>\n",
              "  <tbody>\n",
              "    <tr>\n",
              "      <th>0</th>\n",
              "      <td>DZ17-18556-C02-68</td>\n",
              "      <td>Espace Campus France Algérie</td>\n",
              "      <td>Refusé</td>\n",
              "      <td>Effectué le 26/03/2019</td>\n",
              "      <td>Validé par l'agent ECF depuis le 26/03/2019 \\n...</td>\n",
              "      <td>19/07/1994</td>\n",
              "      <td>Masculin</td>\n",
              "      <td>Algérie</td>\n",
              "      <td>Algérie</td>\n",
              "      <td>Taher-Jijel</td>\n",
              "      <td>Chekfa</td>\n",
              "      <td>Algérie</td>\n",
              "      <td>licence Sciences, technologies, santé mention ...</td>\n",
              "      <td>3</td>\n",
              "      <td>-1</td>\n",
              "      <td>Défavorable</td>\n",
              "      <td>Inadéquat</td>\n",
              "      <td>2017.0</td>\n",
              "      <td>Diplôme de Licence (système LMD) - Licence  Sy...</td>\n",
              "      <td>Bac +3</td>\n",
              "      <td>Université Abdelhak Benhamouda de Jijel</td>\n",
              "      <td>Jije</td>\n",
              "      <td>Jijel</td>\n",
              "      <td>Algérie</td>\n",
              "      <td>10.24</td>\n",
              "      <td>Passable</td>\n",
              "      <td>Marge de progrès</td>\n",
              "      <td>TCF SO + TCF option orale et option écrite</td>\n",
              "      <td>B1</td>\n",
              "      <td>374.0</td>\n",
              "      <td>14/10/2018</td>\n",
              "      <td>13/10/2020</td>\n",
              "      <td>1328482</td>\n",
              "      <td>NaN</td>\n",
              "      <td>Oui</td>\n",
              "      <td>Non</td>\n",
              "      <td>NaN</td>\n",
              "      <td>Chekfa</td>\n",
              "      <td>Jijel</td>\n",
              "      <td>Algérie</td>\n",
              "      <td>Plus de 1000 heures</td>\n",
              "      <td>4 ans et plus</td>\n",
              "      <td>Intermédiaire</td>\n",
              "      <td>Minimale</td>\n",
              "      <td>Correcte</td>\n",
              "    </tr>\n",
              "    <tr>\n",
              "      <th>1</th>\n",
              "      <td>MA18-23197-C02-86</td>\n",
              "      <td>Espace Campus France Maroc</td>\n",
              "      <td>Refusé</td>\n",
              "      <td>Effectué le 08/04/2019</td>\n",
              "      <td>Validé par l'agent ECF depuis le 08/04/2019 \\n...</td>\n",
              "      <td>20/09/1999</td>\n",
              "      <td>Masculin</td>\n",
              "      <td>Maroc</td>\n",
              "      <td>Maroc</td>\n",
              "      <td>Oujda</td>\n",
              "      <td>Berrechid</td>\n",
              "      <td>Maroc</td>\n",
              "      <td>licence Sciences, technologies, santé mention ...</td>\n",
              "      <td>3</td>\n",
              "      <td>-1</td>\n",
              "      <td>Favorable</td>\n",
              "      <td>Solide</td>\n",
              "      <td>2019.0</td>\n",
              "      <td>D.U.T - Diplôme Universitaire de Technologie</td>\n",
              "      <td>Bac +2</td>\n",
              "      <td>École National des Sciences Appliquées</td>\n",
              "      <td>Berrechid</td>\n",
              "      <td>Région de Casablanca</td>\n",
              "      <td>Maroc</td>\n",
              "      <td>NaN</td>\n",
              "      <td>NaN</td>\n",
              "      <td>Très bons</td>\n",
              "      <td>TCF-DAP</td>\n",
              "      <td>B2</td>\n",
              "      <td>411.0</td>\n",
              "      <td>15/12/2018</td>\n",
              "      <td>20/09/2020</td>\n",
              "      <td>212002001812151304628</td>\n",
              "      <td>NaN</td>\n",
              "      <td>Oui</td>\n",
              "      <td>Oui</td>\n",
              "      <td>NaN</td>\n",
              "      <td>NaN</td>\n",
              "      <td>Région de Casablanca</td>\n",
              "      <td>Maroc</td>\n",
              "      <td>Plus de 1000 heures</td>\n",
              "      <td>4 ans et plus</td>\n",
              "      <td>Avancé</td>\n",
              "      <td>Satisfaisante</td>\n",
              "      <td>Très satisfaisante</td>\n",
              "    </tr>\n",
              "  </tbody>\n",
              "</table>\n",
              "</div>"
            ],
            "text/plain": [
              "  Numéro de la candidature  ... Capacité à comprendre\n",
              "0        DZ17-18556-C02-68  ...              Correcte\n",
              "1        MA18-23197-C02-86  ...    Très satisfaisante\n",
              "\n",
              "[2 rows x 45 columns]"
            ]
          },
          "metadata": {},
          "execution_count": 17
        }
      ]
    },
    {
      "cell_type": "markdown",
      "metadata": {
        "id": "UzkZ23EMBYSO"
      },
      "source": [
        "Veamos alguna información acerca este dataset"
      ]
    },
    {
      "cell_type": "code",
      "metadata": {
        "colab": {
          "base_uri": "https://localhost:8080/"
        },
        "id": "i_KLd1wtBhAA",
        "outputId": "9b403195-e571-4805-ff4c-5b06cd6b2c1c"
      },
      "source": [
        "original_ds.info()"
      ],
      "execution_count": 14,
      "outputs": [
        {
          "output_type": "stream",
          "name": "stdout",
          "text": [
            "<class 'pandas.core.frame.DataFrame'>\n",
            "RangeIndex: 4024 entries, 0 to 4023\n",
            "Data columns (total 59 columns):\n",
            " #   Column                                                 Non-Null Count  Dtype  \n",
            "---  ------                                                 --------------  -----  \n",
            " 0   Numéro de la candidature                               4024 non-null   object \n",
            " 1   Espace CampusFrance                                    4024 non-null   object \n",
            " 2   Nom de l'étudiant                                      4024 non-null   object \n",
            " 3   Prénom de l'étudiant                                   4024 non-null   object \n",
            " 4   Etat de la candidature                                 4024 non-null   object \n",
            " 5   Date limite de traitement                              0 non-null      float64\n",
            " 6   Entretien ECF                                          4024 non-null   object \n",
            " 7   Dossier de l'étudiant                                  4024 non-null   object \n",
            " 8   Adresse mail                                           4024 non-null   object \n",
            " 9   Date de naissance                                      4024 non-null   object \n",
            " 10  Sexe                                                   4024 non-null   object \n",
            " 11  Téléphone fixe                                         4024 non-null   object \n",
            " 12  Téléphone portable                                     4024 non-null   object \n",
            " 13  Pays de nationalité                                    4024 non-null   object \n",
            " 14  Pays de naissance                                      4024 non-null   object \n",
            " 15  Ville de naissance                                     4024 non-null   object \n",
            " 16  Adresse de résidence                                   4024 non-null   object \n",
            " 17  Ville de résidence                                     4024 non-null   object \n",
            " 18  Pays de résidence                                      4024 non-null   object \n",
            " 19  Statut particulier bac                                 0 non-null      float64\n",
            " 20  Statut particulier bourse                              1 non-null      object \n",
            " 21  Statut particulier autre                               9 non-null      object \n",
            " 22  Libellé formation de la candidature                    4024 non-null   object \n",
            " 23  Etablissement de la candidature                        4024 non-null   object \n",
            " 24  Composante de la candidature                           4024 non-null   object \n",
            " 25  Site de la candidature                                 4024 non-null   object \n",
            " 26  Année d'entrée de la candidature                       4024 non-null   int64  \n",
            " 27  Priorité                                               470 non-null    float64\n",
            " 28  Avis SCAC                                              4024 non-null   object \n",
            " 29  Appréciation SCAC                                      4024 non-null   object \n",
            " 30  Année scolaire du dernier diplôme obtenu               3972 non-null   float64\n",
            " 31  Type du dernier diplôme obtenu                         3844 non-null   object \n",
            " 32  Niveau du dernier diplôme obtenu                       3844 non-null   object \n",
            " 33  Etablissement du dernier diplôme obtenu                3972 non-null   object \n",
            " 34  Ville du dernier diplôme obtenu                        3972 non-null   object \n",
            " 35  Région du dernier diplôme obtenu                       3972 non-null   object \n",
            " 36  Pays du dernier diplôme obtenu                         3972 non-null   object \n",
            " 37  Moyenne du dernier diplôme obtenu                      1937 non-null   object \n",
            " 38  Mention du dernier diplôme obtenu                      1950 non-null   object \n",
            " 39  Appréciation SCAC sur cursus                           4024 non-null   object \n",
            " 40  Dernier test de français obtenu                        2926 non-null   object \n",
            " 41  Niveau global du dernier test obtenu                   2926 non-null   object \n",
            " 42  Score global du dernier test obtenu                    2926 non-null   float64\n",
            " 43  Date d'obtention du dernier test obtenu                2926 non-null   object \n",
            " 44  Date d'expiration du dernier test obtenu               2577 non-null   object \n",
            " 45  Numéro d'attestation du dernier test obtenu            2577 non-null   object \n",
            " 46  Dispensé de certification en français par l'espace CF  2487 non-null   object \n",
            " 47  A passé une partie de sa scolarité en français         1938 non-null   object \n",
            " 48  A étudié le français                                   1938 non-null   object \n",
            " 49  Etablissement                                          621 non-null    object \n",
            " 50  Ville                                                  972 non-null    object \n",
            " 51  Région                                                 1019 non-null   object \n",
            " 52  Pays                                                   1019 non-null   object \n",
            " 53  Volume d'heures                                        1019 non-null   object \n",
            " 54  Durée d'étude                                          1019 non-null   object \n",
            " 55  Niveau obtenu                                          1019 non-null   object \n",
            " 56  Capacité à se faire comprendre                         4022 non-null   object \n",
            " 57  Capacité à comprendre                                  4022 non-null   object \n",
            " 58  Exonération                                            5 non-null      object \n",
            "dtypes: float64(5), int64(1), object(53)\n",
            "memory usage: 1.8+ MB\n"
          ]
        }
      ]
    },
    {
      "cell_type": "markdown",
      "metadata": {
        "id": "lSRTJoh7xwkx"
      },
      "source": [
        "refinado_ds.info()"
      ]
    },
    {
      "cell_type": "markdown",
      "metadata": {
        "id": "yOOURdLX7Veu"
      },
      "source": [
        "Veamos con cuántas variables contamos"
      ]
    },
    {
      "cell_type": "code",
      "metadata": {
        "colab": {
          "base_uri": "https://localhost:8080/"
        },
        "id": "4ByiJTC_6a8R",
        "outputId": "ce58464b-e37b-4b94-b00e-4b071ac321c0"
      },
      "source": [
        "total_variables_original = len(original_ds.columns)\n",
        "total_variables_refinado = len(refinado_ds.columns)\n",
        "print(total_variables_original)\n",
        "print(total_variables_refinado)"
      ],
      "execution_count": 15,
      "outputs": [
        {
          "output_type": "stream",
          "name": "stdout",
          "text": [
            "59\n",
            "45\n"
          ]
        }
      ]
    },
    {
      "cell_type": "markdown",
      "metadata": {
        "id": "vQ7sfwCY1kXW"
      },
      "source": [
        "Gráfico de barras de **Estado de la candidatura** con respecto al **sexo** del aplicante"
      ]
    },
    {
      "cell_type": "code",
      "metadata": {
        "colab": {
          "base_uri": "https://localhost:8080/",
          "height": 1000
        },
        "id": "V_gjVLxh1kDv",
        "outputId": "91c25854-bd95-4ed3-b310-d80448c9ea0f"
      },
      "source": [
        "#Defino los colores que quiero usar\n",
        "mis_colores = [\"cyan\", \"greenyellow\"]\n",
        "\n",
        "estado_candidature = refinado_ds['Etat de la candidature']\n",
        "sexo_aplicante = refinado_ds['Sexe']\n",
        "\n",
        "print(estado_candidature)\n",
        "print(sexo_aplicante)\n",
        "\n",
        "#Cantidad de estudiantes por carreras\n",
        "#estado_candidatura_por_sexo = refinado_ds[['Etat de la candidature'],['Sexe']].value_counts()\n",
        "#print(estado_candidatura_por_sexo, '\\n\\n\\n')\n",
        "por_sexo_aplicante = refinado_ds.groupby('Sexe')['Etat de la candidature'].value_counts()\n",
        "print('\\n\\nEs:\\n',por_sexo_aplicante,'\\n\\n')\n",
        "\n",
        "print('\\n\\nEs:\\n',por_sexo_aplicante,'\\n\\n')\n",
        "\n",
        "#Grafico de barras\n",
        "df.plot(x=\"X\", y=[\"A\", \"B\", \"C\"], kind=\"bar\")\n",
        "'''\n",
        "plt.bar(por_sexo_aplicante, estado_candidature, color = mis_colores)\n",
        "plt.xticks(rotation=90)\n",
        "plt.title(\"Cantidad de Estudiantes por Carrera\")\n",
        "plt.xlabel(\"Carrera\")\n",
        "plt.ylabel(\"Cantidad de Estudiantes\")\n",
        "plt.show()\n",
        "'''"
      ],
      "execution_count": 53,
      "outputs": [
        {
          "output_type": "stream",
          "name": "stdout",
          "text": [
            "0       Refusé\n",
            "1       Refusé\n",
            "2       Refusé\n",
            "3       Refusé\n",
            "4       Refusé\n",
            "         ...  \n",
            "4019    Refusé\n",
            "4020    Refusé\n",
            "4021    Refusé\n",
            "4022    Refusé\n",
            "4023    Refusé\n",
            "Name: Etat de la candidature, Length: 4024, dtype: object\n",
            "0       Masculin\n",
            "1       Masculin\n",
            "2       Masculin\n",
            "3       Masculin\n",
            "4       Masculin\n",
            "          ...   \n",
            "4019     Féminin\n",
            "4020    Masculin\n",
            "4021     Féminin\n",
            "4022     Féminin\n",
            "4023    Masculin\n",
            "Name: Sexe, Length: 4024, dtype: object\n",
            "\n",
            "\n",
            "Es:\n",
            " Sexe      Etat de la candidature\n",
            "Féminin   Refusé                     960\n",
            "          Abandonné                   85\n",
            "          Visa accordé                29\n",
            "          Choisi                      21\n",
            "          Visa refusé                  7\n",
            "          Accepté                      5\n",
            "          Défavorable                  1\n",
            "Masculin  Refusé                    2571\n",
            "          Abandonné                  174\n",
            "          Choisi                      61\n",
            "          Visa accordé                61\n",
            "          Visa refusé                 24\n",
            "          Accepté                     20\n",
            "          Favorable                    3\n",
            "          Défavorable                  2\n",
            "Name: Etat de la candidature, dtype: int64 \n",
            "\n",
            "\n",
            "\n",
            "\n",
            "Es:\n",
            " Sexe      Etat de la candidature\n",
            "Féminin   Refusé                     960\n",
            "          Abandonné                   85\n",
            "          Visa accordé                29\n",
            "          Choisi                      21\n",
            "          Visa refusé                  7\n",
            "          Accepté                      5\n",
            "          Défavorable                  1\n",
            "Masculin  Refusé                    2571\n",
            "          Abandonné                  174\n",
            "          Choisi                      61\n",
            "          Visa accordé                61\n",
            "          Visa refusé                 24\n",
            "          Accepté                     20\n",
            "          Favorable                    3\n",
            "          Défavorable                  2\n",
            "Name: Etat de la candidature, dtype: int64 \n",
            "\n",
            "\n"
          ]
        },
        {
          "output_type": "display_data",
          "data": {
            "image/png": "[encoded data removed]",
            "text/plain": [
              "<Figure size 432x288 with 1 Axes>"
            ]
          },
          "metadata": {
            "needs_background": "light"
          }
        },
        {
          "output_type": "execute_result",
          "data": {
            "application/vnd.google.colaboratory.intrinsic+json": {
              "type": "string"
            },
            "text/plain": [
              "'\\n\\n'"
            ]
          },
          "metadata": {},
          "execution_count": 53
        }
      ]
    },
    {
      "cell_type": "code",
      "metadata": {
        "id": "4zTxfUf4C2_o"
      },
      "source": [
        "import pandas as pd \n",
        "import matplotlib.pyplot as plt \n",
        "\n",
        "data=[['Féminin','Refusé',por_sexo_aplicante['Féminin']['Refusé']],\n",
        "      ['Féminin','Abandonné',por_sexo_aplicante['Féminin']['Abandonné']],\n",
        "      ['Féminin','Visa accordé',por_sexo_aplicante['Féminin']['Visa accordé']],\n",
        "      ['Féminin','Choisi',por_sexo_aplicante['Féminin']['Choisi']],\n",
        "      ['Féminin','Visa refusé',por_sexo_aplicante['Féminin']['Visa refusé']],\n",
        "      ['Féminin','Accepté',por_sexo_aplicante['Féminin']['Accepté']],\n",
        "      ['Féminin','Défavorable',por_sexo_aplicante['Féminin']['Défavorable']],\n",
        "\n",
        "      ['Masculin','Refusé',por_sexo_aplicante['Masculin']['Refusé']],\n",
        "      ['Masculin','Abandonné',por_sexo_aplicante['Masculin']['Abandonné']],\n",
        "      ['Masculin','Visa accordé',por_sexo_aplicante['Masculin']['Visa accordé']],\n",
        "      ['Masculin','Choisi',por_sexo_aplicante['Masculin']['Choisi']],\n",
        "      ['Masculin','Visa refusé',por_sexo_aplicante['Masculin']['Visa refusé']],\n",
        "      ['Masculin','Accepté',por_sexo_aplicante['Masculin']['Accepté']],\n",
        "      ['Masculin','Défavorable',por_sexo_aplicante['Masculin']['Défavorable']]\n",
        "     ]\n",
        "\n",
        "df=pd.DataFrame(data,columns=[\"Sexe\",\"Etat de la candidature\",\"Amount\"])\n",
        "df.plot(x=\"Name\", y=[\"Sexe\", \"Etat de la candidature\", \"Weight(kg)\"], kind=\"bar\",figsize=(9,8))\n",
        "plt.show()"
      ],
      "execution_count": null,
      "outputs": []
    },
    {
      "cell_type": "code",
      "metadata": {
        "colab": {
          "base_uri": "https://localhost:8080/"
        },
        "id": "3mTysUADGQl_",
        "outputId": "d0260168-d343-403a-dfc7-78d851a6db92"
      },
      "source": [
        "labels = ['Refusé', 'Abandonné', 'Visa accordé', 'Choisi',\n",
        "          'Visa refusé', 'Accepté', 'Défavorable']\n",
        "men_amount = por_sexo_aplicante['Féminin']\n",
        "women_amount = por_sexo_aplicante['Masculin']\n",
        "\n",
        "\n",
        "\n",
        "print(labels, men_amount, women_amount)"
      ],
      "execution_count": 59,
      "outputs": [
        {
          "output_type": "stream",
          "name": "stdout",
          "text": [
            "['Refusé', 'Abandonné', 'Visa accordé', 'Choisi', 'Visa refusé', 'Accepté', 'Défavorable'] Etat de la candidature\n",
            "Refusé          960\n",
            "Abandonné        85\n",
            "Visa accordé     29\n",
            "Choisi           21\n",
            "Visa refusé       7\n",
            "Accepté           5\n",
            "Défavorable       1\n",
            "Name: Etat de la candidature, dtype: int64 Etat de la candidature\n",
            "Refusé          2571\n",
            "Abandonné        174\n",
            "Choisi            61\n",
            "Visa accordé      61\n",
            "Visa refusé       24\n",
            "Accepté           20\n",
            "Favorable          3\n",
            "Défavorable        2\n",
            "Name: Etat de la candidature, dtype: int64\n"
          ]
        }
      ]
    },
    {
      "cell_type": "code",
      "metadata": {
        "colab": {
          "base_uri": "https://localhost:8080/",
          "height": 683
        },
        "id": "HIgWd9X-HrgD",
        "outputId": "139bf8a4-8907-4d55-9f50-7013dbd26868"
      },
      "source": [
        "x = np.arange(len(labels))  # the label locations\n",
        "width = 0.35  # the width of the bars\n",
        "\n",
        "# create data\n",
        "x = np.arange(len(labels))\n",
        "men_amount = por_sexo_aplicante['Féminin']\n",
        "women_amount = por_sexo_aplicante['Masculin']\n",
        "width = 0.35\n",
        "  \n",
        "# plot data in grouped manner of bar type\n",
        "plt.bar(x-0.2, men_amount, width)\n",
        "plt.bar(x+0.2, women_amount, width)\n",
        "\n",
        "\n",
        "\n",
        "plt.show()"
      ],
      "execution_count": 58,
      "outputs": [
        {
          "output_type": "error",
          "ename": "ValueError",
          "evalue": "ignored",
          "traceback": [
            "\u001b[0;31m---------------------------------------------------------------------------\u001b[0m",
            "\u001b[0;31mValueError\u001b[0m                                Traceback (most recent call last)",
            "\u001b[0;32m<ipython-input-58-a80105ea88d4>\u001b[0m in \u001b[0;36m<module>\u001b[0;34m()\u001b[0m\n\u001b[1;32m     10\u001b[0m \u001b[0;31m# plot data in grouped manner of bar type\u001b[0m\u001b[0;34m\u001b[0m\u001b[0;34m\u001b[0m\u001b[0;34m\u001b[0m\u001b[0m\n\u001b[1;32m     11\u001b[0m \u001b[0mplt\u001b[0m\u001b[0;34m.\u001b[0m\u001b[0mbar\u001b[0m\u001b[0;34m(\u001b[0m\u001b[0mx\u001b[0m\u001b[0;34m-\u001b[0m\u001b[0;36m0.2\u001b[0m\u001b[0;34m,\u001b[0m \u001b[0mmen_amount\u001b[0m\u001b[0;34m,\u001b[0m \u001b[0mwidth\u001b[0m\u001b[0;34m)\u001b[0m\u001b[0;34m\u001b[0m\u001b[0;34m\u001b[0m\u001b[0m\n\u001b[0;32m---> 12\u001b[0;31m \u001b[0mplt\u001b[0m\u001b[0;34m.\u001b[0m\u001b[0mbar\u001b[0m\u001b[0;34m(\u001b[0m\u001b[0mx\u001b[0m\u001b[0;34m+\u001b[0m\u001b[0;36m0.2\u001b[0m\u001b[0;34m,\u001b[0m \u001b[0mwomen_amount\u001b[0m\u001b[0;34m,\u001b[0m \u001b[0mwidth\u001b[0m\u001b[0;34m)\u001b[0m\u001b[0;34m\u001b[0m\u001b[0;34m\u001b[0m\u001b[0m\n\u001b[0m\u001b[1;32m     13\u001b[0m \u001b[0;34m\u001b[0m\u001b[0m\n\u001b[1;32m     14\u001b[0m \u001b[0;34m\u001b[0m\u001b[0m\n",
            "\u001b[0;32m/usr/local/lib/python3.7/dist-packages/matplotlib/pyplot.py\u001b[0m in \u001b[0;36mbar\u001b[0;34m(x, height, width, bottom, align, data, **kwargs)\u001b[0m\n\u001b[1;32m   2407\u001b[0m     return gca().bar(\n\u001b[1;32m   2408\u001b[0m         \u001b[0mx\u001b[0m\u001b[0;34m,\u001b[0m \u001b[0mheight\u001b[0m\u001b[0;34m,\u001b[0m \u001b[0mwidth\u001b[0m\u001b[0;34m=\u001b[0m\u001b[0mwidth\u001b[0m\u001b[0;34m,\u001b[0m \u001b[0mbottom\u001b[0m\u001b[0;34m=\u001b[0m\u001b[0mbottom\u001b[0m\u001b[0;34m,\u001b[0m \u001b[0malign\u001b[0m\u001b[0;34m=\u001b[0m\u001b[0malign\u001b[0m\u001b[0;34m,\u001b[0m\u001b[0;34m\u001b[0m\u001b[0;34m\u001b[0m\u001b[0m\n\u001b[0;32m-> 2409\u001b[0;31m         **({\"data\": data} if data is not None else {}), **kwargs)\n\u001b[0m\u001b[1;32m   2410\u001b[0m \u001b[0;34m\u001b[0m\u001b[0m\n\u001b[1;32m   2411\u001b[0m \u001b[0;34m\u001b[0m\u001b[0m\n",
            "\u001b[0;32m/usr/local/lib/python3.7/dist-packages/matplotlib/__init__.py\u001b[0m in \u001b[0;36minner\u001b[0;34m(ax, data, *args, **kwargs)\u001b[0m\n\u001b[1;32m   1563\u001b[0m     \u001b[0;32mdef\u001b[0m \u001b[0minner\u001b[0m\u001b[0;34m(\u001b[0m\u001b[0max\u001b[0m\u001b[0;34m,\u001b[0m \u001b[0;34m*\u001b[0m\u001b[0margs\u001b[0m\u001b[0;34m,\u001b[0m \u001b[0mdata\u001b[0m\u001b[0;34m=\u001b[0m\u001b[0;32mNone\u001b[0m\u001b[0;34m,\u001b[0m \u001b[0;34m**\u001b[0m\u001b[0mkwargs\u001b[0m\u001b[0;34m)\u001b[0m\u001b[0;34m:\u001b[0m\u001b[0;34m\u001b[0m\u001b[0;34m\u001b[0m\u001b[0m\n\u001b[1;32m   1564\u001b[0m         \u001b[0;32mif\u001b[0m \u001b[0mdata\u001b[0m \u001b[0;32mis\u001b[0m \u001b[0;32mNone\u001b[0m\u001b[0;34m:\u001b[0m\u001b[0;34m\u001b[0m\u001b[0;34m\u001b[0m\u001b[0m\n\u001b[0;32m-> 1565\u001b[0;31m             \u001b[0;32mreturn\u001b[0m \u001b[0mfunc\u001b[0m\u001b[0;34m(\u001b[0m\u001b[0max\u001b[0m\u001b[0;34m,\u001b[0m \u001b[0;34m*\u001b[0m\u001b[0mmap\u001b[0m\u001b[0;34m(\u001b[0m\u001b[0msanitize_sequence\u001b[0m\u001b[0;34m,\u001b[0m \u001b[0margs\u001b[0m\u001b[0;34m)\u001b[0m\u001b[0;34m,\u001b[0m \u001b[0;34m**\u001b[0m\u001b[0mkwargs\u001b[0m\u001b[0;34m)\u001b[0m\u001b[0;34m\u001b[0m\u001b[0;34m\u001b[0m\u001b[0m\n\u001b[0m\u001b[1;32m   1566\u001b[0m \u001b[0;34m\u001b[0m\u001b[0m\n\u001b[1;32m   1567\u001b[0m         \u001b[0mbound\u001b[0m \u001b[0;34m=\u001b[0m \u001b[0mnew_sig\u001b[0m\u001b[0;34m.\u001b[0m\u001b[0mbind\u001b[0m\u001b[0;34m(\u001b[0m\u001b[0max\u001b[0m\u001b[0;34m,\u001b[0m \u001b[0;34m*\u001b[0m\u001b[0margs\u001b[0m\u001b[0;34m,\u001b[0m \u001b[0;34m**\u001b[0m\u001b[0mkwargs\u001b[0m\u001b[0;34m)\u001b[0m\u001b[0;34m\u001b[0m\u001b[0;34m\u001b[0m\u001b[0m\n",
            "\u001b[0;32m/usr/local/lib/python3.7/dist-packages/matplotlib/axes/_axes.py\u001b[0m in \u001b[0;36mbar\u001b[0;34m(self, x, height, width, bottom, align, **kwargs)\u001b[0m\n\u001b[1;32m   2340\u001b[0m         x, height, width, y, linewidth = np.broadcast_arrays(\n\u001b[1;32m   2341\u001b[0m             \u001b[0;31m# Make args iterable too.\u001b[0m\u001b[0;34m\u001b[0m\u001b[0;34m\u001b[0m\u001b[0;34m\u001b[0m\u001b[0m\n\u001b[0;32m-> 2342\u001b[0;31m             np.atleast_1d(x), height, width, y, linewidth)\n\u001b[0m\u001b[1;32m   2343\u001b[0m \u001b[0;34m\u001b[0m\u001b[0m\n\u001b[1;32m   2344\u001b[0m         \u001b[0;31m# Now that units have been converted, set the tick locations.\u001b[0m\u001b[0;34m\u001b[0m\u001b[0;34m\u001b[0m\u001b[0;34m\u001b[0m\u001b[0m\n",
            "\u001b[0;32m<__array_function__ internals>\u001b[0m in \u001b[0;36mbroadcast_arrays\u001b[0;34m(*args, **kwargs)\u001b[0m\n",
            "\u001b[0;32m/usr/local/lib/python3.7/dist-packages/numpy/lib/stride_tricks.py\u001b[0m in \u001b[0;36mbroadcast_arrays\u001b[0;34m(subok, *args)\u001b[0m\n\u001b[1;32m    256\u001b[0m     \u001b[0margs\u001b[0m \u001b[0;34m=\u001b[0m \u001b[0;34m[\u001b[0m\u001b[0mnp\u001b[0m\u001b[0;34m.\u001b[0m\u001b[0marray\u001b[0m\u001b[0;34m(\u001b[0m\u001b[0m_m\u001b[0m\u001b[0;34m,\u001b[0m \u001b[0mcopy\u001b[0m\u001b[0;34m=\u001b[0m\u001b[0;32mFalse\u001b[0m\u001b[0;34m,\u001b[0m \u001b[0msubok\u001b[0m\u001b[0;34m=\u001b[0m\u001b[0msubok\u001b[0m\u001b[0;34m)\u001b[0m \u001b[0;32mfor\u001b[0m \u001b[0m_m\u001b[0m \u001b[0;32min\u001b[0m \u001b[0margs\u001b[0m\u001b[0;34m]\u001b[0m\u001b[0;34m\u001b[0m\u001b[0;34m\u001b[0m\u001b[0m\n\u001b[1;32m    257\u001b[0m \u001b[0;34m\u001b[0m\u001b[0m\n\u001b[0;32m--> 258\u001b[0;31m     \u001b[0mshape\u001b[0m \u001b[0;34m=\u001b[0m \u001b[0m_broadcast_shape\u001b[0m\u001b[0;34m(\u001b[0m\u001b[0;34m*\u001b[0m\u001b[0margs\u001b[0m\u001b[0;34m)\u001b[0m\u001b[0;34m\u001b[0m\u001b[0;34m\u001b[0m\u001b[0m\n\u001b[0m\u001b[1;32m    259\u001b[0m \u001b[0;34m\u001b[0m\u001b[0m\n\u001b[1;32m    260\u001b[0m     \u001b[0;32mif\u001b[0m \u001b[0mall\u001b[0m\u001b[0;34m(\u001b[0m\u001b[0marray\u001b[0m\u001b[0;34m.\u001b[0m\u001b[0mshape\u001b[0m \u001b[0;34m==\u001b[0m \u001b[0mshape\u001b[0m \u001b[0;32mfor\u001b[0m \u001b[0marray\u001b[0m \u001b[0;32min\u001b[0m \u001b[0margs\u001b[0m\u001b[0;34m)\u001b[0m\u001b[0;34m:\u001b[0m\u001b[0;34m\u001b[0m\u001b[0;34m\u001b[0m\u001b[0m\n",
            "\u001b[0;32m/usr/local/lib/python3.7/dist-packages/numpy/lib/stride_tricks.py\u001b[0m in \u001b[0;36m_broadcast_shape\u001b[0;34m(*args)\u001b[0m\n\u001b[1;32m    187\u001b[0m     \u001b[0;31m# use the old-iterator because np.nditer does not handle size 0 arrays\u001b[0m\u001b[0;34m\u001b[0m\u001b[0;34m\u001b[0m\u001b[0;34m\u001b[0m\u001b[0m\n\u001b[1;32m    188\u001b[0m     \u001b[0;31m# consistently\u001b[0m\u001b[0;34m\u001b[0m\u001b[0;34m\u001b[0m\u001b[0;34m\u001b[0m\u001b[0m\n\u001b[0;32m--> 189\u001b[0;31m     \u001b[0mb\u001b[0m \u001b[0;34m=\u001b[0m \u001b[0mnp\u001b[0m\u001b[0;34m.\u001b[0m\u001b[0mbroadcast\u001b[0m\u001b[0;34m(\u001b[0m\u001b[0;34m*\u001b[0m\u001b[0margs\u001b[0m\u001b[0;34m[\u001b[0m\u001b[0;34m:\u001b[0m\u001b[0;36m32\u001b[0m\u001b[0;34m]\u001b[0m\u001b[0;34m)\u001b[0m\u001b[0;34m\u001b[0m\u001b[0;34m\u001b[0m\u001b[0m\n\u001b[0m\u001b[1;32m    190\u001b[0m     \u001b[0;31m# unfortunately, it cannot handle 32 or more arguments directly\u001b[0m\u001b[0;34m\u001b[0m\u001b[0;34m\u001b[0m\u001b[0;34m\u001b[0m\u001b[0m\n\u001b[1;32m    191\u001b[0m     \u001b[0;32mfor\u001b[0m \u001b[0mpos\u001b[0m \u001b[0;32min\u001b[0m \u001b[0mrange\u001b[0m\u001b[0;34m(\u001b[0m\u001b[0;36m32\u001b[0m\u001b[0;34m,\u001b[0m \u001b[0mlen\u001b[0m\u001b[0;34m(\u001b[0m\u001b[0margs\u001b[0m\u001b[0;34m)\u001b[0m\u001b[0;34m,\u001b[0m \u001b[0;36m31\u001b[0m\u001b[0;34m)\u001b[0m\u001b[0;34m:\u001b[0m\u001b[0;34m\u001b[0m\u001b[0;34m\u001b[0m\u001b[0m\n",
            "\u001b[0;31mValueError\u001b[0m: shape mismatch: objects cannot be broadcast to a single shape"
          ]
        },
        {
          "output_type": "display_data",
          "data": {
            "image/png": "[encoded data removed]",
            "text/plain": [
              "<Figure size 432x288 with 1 Axes>"
            ]
          },
          "metadata": {
            "needs_background": "light"
          }
        }
      ]
    },
    {
      "cell_type": "code",
      "metadata": {
        "colab": {
          "base_uri": "https://localhost:8080/",
          "height": 131
        },
        "id": "o5UkceXwJURU",
        "outputId": "be327ea2-aaed-4aa4-add6-c667ba1969f0"
      },
      "source": [
        "import pandas as pd\n",
        "import matplotlib.pyplot as plt\n",
        "import seaborn as sns\n",
        "\n",
        "Amount = [por_sexo_aplicante['Masculin']['Refusé'],\n",
        "          por_sexo_aplicante['Masculin']['Abandonné'],\n",
        "          por_sexo_aplicante['Masculin']['Visa accordé'],\n",
        "          por_sexo_aplicante['Masculin']['Choisi'],\n",
        "          por_sexo_aplicante['Masculin']['Visa refusé'],\n",
        "          por_sexo_aplicante['Masculin']['Accepté'],\n",
        "          por_sexo_aplicante['Masculin']['Défavorable'],\n",
        "          por_sexo_aplicante['Féminin']['Refusé'],\n",
        "          por_sexo_aplicante['Féminin']['Abandonné'],\n",
        "          por_sexo_aplicante['Féminin']['Visa accordé'],\n",
        "          por_sexo_aplicante['Féminin']['Choisi'],\n",
        "          por_sexo_aplicante['Féminin']['Visa refusé'],\n",
        "          por_sexo_aplicante['Féminin']['Accepté'],\n",
        "          por_sexo_aplicante['Féminin']['Défavorable']\n",
        "\n",
        "df = {'Sexe':['Masculin', 'Masculin', 'Masculin', 'Masculin', 'Masculin', \n",
        "              'Masculin', 'Masculin',\n",
        "              'Féminin', 'Féminin', 'Féminin','Féminin', 'Féminin',\n",
        "              'Féminin', 'Féminin'],\n",
        "        'Etat de la candidature':['Refusé', 'Abandonné', 'Visa accordé',\n",
        "                                  'Choisi', 'Visa refusé', 'Accepté',\n",
        "                                  'Défavorable', 'Refusé', 'Abandonné',\n",
        "                                  'Visa accordé', 'Choisi', 'Visa refusé',\n",
        "                                  'Accepté','Défavorable'],\n",
        "        'Amount': Amount}\n",
        "\n",
        "#df = pd.DataFrame([['g1','c1',10],['g1','c2',12],['g1','c3',13],['g2','c1',8],\n",
        "                 #  ['g2','c2',10],['g2','c3',12]],columns=['group','column','val'])\n",
        "\n",
        "sns.barplot(data=df, x='Etat de la candidature', y='Amount', hue='Sexe')\n",
        "\n",
        "sns.show()\n",
        "\n"
      ],
      "execution_count": 75,
      "outputs": [
        {
          "output_type": "error",
          "ename": "SyntaxError",
          "evalue": "ignored",
          "traceback": [
            "\u001b[0;36m  File \u001b[0;32m\"<ipython-input-75-6eccc74ae349>\"\u001b[0;36m, line \u001b[0;32m20\u001b[0m\n\u001b[0;31m    df = {'Sexe':['Masculin', 'Masculin', 'Masculin', 'Masculin', 'Masculin',\u001b[0m\n\u001b[0m     ^\u001b[0m\n\u001b[0;31mSyntaxError\u001b[0m\u001b[0;31m:\u001b[0m invalid syntax\n"
          ]
        }
      ]
    },
    {
      "cell_type": "code",
      "metadata": {
        "colab": {
          "base_uri": "https://localhost:8080/",
          "height": 166
        },
        "id": "eg8zxIKXO99C",
        "outputId": "8679b0bf-9f3c-464e-b070-d9bace479245"
      },
      "source": [
        "for i in \n",
        "Amount['Etat de la candidature']"
      ],
      "execution_count": 71,
      "outputs": [
        {
          "output_type": "error",
          "ename": "TypeError",
          "evalue": "ignored",
          "traceback": [
            "\u001b[0;31m---------------------------------------------------------------------------\u001b[0m",
            "\u001b[0;31mTypeError\u001b[0m                                 Traceback (most recent call last)",
            "\u001b[0;32m<ipython-input-71-43121c45d321>\u001b[0m in \u001b[0;36m<module>\u001b[0;34m()\u001b[0m\n\u001b[0;32m----> 1\u001b[0;31m \u001b[0mAmount\u001b[0m\u001b[0;34m[\u001b[0m\u001b[0;34m'Etat de la candidature'\u001b[0m\u001b[0;34m]\u001b[0m\u001b[0;34m\u001b[0m\u001b[0;34m\u001b[0m\u001b[0m\n\u001b[0m",
            "\u001b[0;31mTypeError\u001b[0m: list indices must be integers or slices, not str"
          ]
        }
      ]
    },
    {
      "cell_type": "code",
      "metadata": {
        "colab": {
          "base_uri": "https://localhost:8080/"
        },
        "id": "pOUgDImO9P2J",
        "outputId": "9f260d51-f685-4f61-8bdd-eeb849d38349"
      },
      "source": [
        "\n",
        "\n",
        "print(por_sexo_aplicante['Féminin']['Refusé'],\n",
        "      por_sexo_aplicante['Féminin']['Abandonné'],\n",
        "      por_sexo_aplicante['Féminin']['Visa accordé'],\n",
        "      por_sexo_aplicante['Féminin']['Choisi'],\n",
        "      por_sexo_aplicante['Féminin']['Visa refusé'],\n",
        "      por_sexo_aplicante['Féminin']['Accepté'],\n",
        "      por_sexo_aplicante['Féminin']['Défavorable'],\n",
        "      por_sexo_aplicante['Masculin']['Refusé'],\n",
        "      por_sexo_aplicante['Masculin']['Abandonné'],\n",
        "      por_sexo_aplicante['Masculin']['Visa accordé'],\n",
        "      por_sexo_aplicante['Masculin']['Choisi'],\n",
        "      por_sexo_aplicante['Masculin']['Visa refusé'],\n",
        "      por_sexo_aplicante['Masculin']['Accepté'],\n",
        "      por_sexo_aplicante['Masculin']['Défavorable'])"
      ],
      "execution_count": 50,
      "outputs": [
        {
          "output_type": "stream",
          "name": "stdout",
          "text": [
            "960 85 29 21 7 5 1 2571 174 61 61 24 20 2\n"
          ]
        }
      ]
    },
    {
      "cell_type": "code",
      "metadata": {
        "colab": {
          "base_uri": "https://localhost:8080/"
        },
        "id": "8w_fJgXiAGLh",
        "outputId": "e6f72ef1-6cca-4689-f4a8-298337ac7fa8"
      },
      "source": [
        "list_masculine = [por_sexo_aplicante['Masculin']*100/por_sexo_aplicante['Masculin'].sum(),\n",
        "                  por_sexo_aplicante['Féminin']*100/por_sexo_aplicante['Féminin'].sum()]\n",
        "list_masculine"
      ],
      "execution_count": 51,
      "outputs": [
        {
          "output_type": "execute_result",
          "data": {
            "text/plain": [
              "[Etat de la candidature\n",
              " Refusé          88.168724\n",
              " Abandonné        5.967078\n",
              " Choisi           2.091907\n",
              " Visa accordé     2.091907\n",
              " Visa refusé      0.823045\n",
              " Accepté          0.685871\n",
              " Favorable        0.102881\n",
              " Défavorable      0.068587\n",
              " Name: Etat de la candidature, dtype: float64, Etat de la candidature\n",
              " Refusé          86.642599\n",
              " Abandonné        7.671480\n",
              " Visa accordé     2.617329\n",
              " Choisi           1.895307\n",
              " Visa refusé      0.631769\n",
              " Accepté          0.451264\n",
              " Défavorable      0.090253\n",
              " Name: Etat de la candidature, dtype: float64]"
            ]
          },
          "metadata": {},
          "execution_count": 51
        }
      ]
    },
    {
      "cell_type": "code",
      "metadata": {
        "colab": {
          "base_uri": "https://localhost:8080/"
        },
        "id": "uy9_q4rRByQZ",
        "outputId": "f44c82dd-48db-44ac-82a1-0985df488587"
      },
      "source": [
        "Amount = [por_sexo_aplicante['Masculin'],por_sexo_aplicante['Féminin']]\n",
        "Amount"
      ],
      "execution_count": 63,
      "outputs": [
        {
          "output_type": "execute_result",
          "data": {
            "text/plain": [
              "[Etat de la candidature\n",
              " Refusé          2571\n",
              " Abandonné        174\n",
              " Choisi            61\n",
              " Visa accordé      61\n",
              " Visa refusé       24\n",
              " Accepté           20\n",
              " Favorable          3\n",
              " Défavorable        2\n",
              " Name: Etat de la candidature, dtype: int64, Etat de la candidature\n",
              " Refusé          960\n",
              " Abandonné        85\n",
              " Visa accordé     29\n",
              " Choisi           21\n",
              " Visa refusé       7\n",
              " Accepté           5\n",
              " Défavorable       1\n",
              " Name: Etat de la candidature, dtype: int64]"
            ]
          },
          "metadata": {},
          "execution_count": 63
        }
      ]
    }
  ]
}